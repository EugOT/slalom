{
 "cells": [
  {
   "cell_type": "markdown",
   "metadata": {},
   "source": [
    "# Analysis of example dataset with Python version of f-scLVM"
   ]
  },
  {
   "cell_type": "code",
   "execution_count": 1,
   "metadata": {
    "collapsed": false
   },
   "outputs": [
    {
     "name": "stdout",
     "output_type": "stream",
     "text": [
      "Populating the interactive namespace from numpy and matplotlib\n"
     ]
    }
   ],
   "source": [
    "import os\n",
    "import fscLVM\n",
    "import pdb\n",
    "import h5py\n",
    "import scipy as sp\n",
    "from fscLVM import plotFactors, plotRelevance, plotLoadings, saveFA, dumpFA\n",
    "%pylab inline\n",
    "\n",
    "# specify where the expression data and gene sets files are\n",
    "data_dir = 'extdata'\n",
    "out_dir = 'extdata'"
   ]
  },
  {
   "cell_type": "markdown",
   "metadata": {},
   "source": [
    "## Loading raw expression data and gene sets"
   ]
  },
  {
   "cell_type": "code",
   "execution_count": 2,
   "metadata": {
    "collapsed": true
   },
   "outputs": [],
   "source": [
    "####\n",
    "# Annotation file\n",
    "annoFileMSigDB = os.path.join(data_dir,'reactome_subset.gmt') #REACTOME subset\n",
    "annoDB   = 'REACTOME'\n",
    "\n",
    "# dataFile: csv file with log expresison values\n",
    "dataFile = os.path.join(data_dir, 'mesc.csv')"
   ]
  },
  {
   "cell_type": "code",
   "execution_count": 5,
   "metadata": {
    "collapsed": false
   },
   "outputs": [],
   "source": [
    "data = fscLVM.utils.load_txt(dataFile=dataFile, annoFiles=annoFileMSigDB, annoDBs=annoDB)"
   ]
  },
  {
   "cell_type": "code",
   "execution_count": 10,
   "metadata": {
    "collapsed": false
   },
   "outputs": [
    {
     "name": "stdout",
     "output_type": "stream",
     "text": [
      "Loaded 182 cells, 196 genes\n",
      "Annotation: 30 terms\n"
     ]
    }
   ],
   "source": [
    "#print statistics for the loaded dataset\n",
    "print (\"Loaded {:d} cells, {:d} genes\".format(data['Y'].shape[0],data['Y'].shape[1]))\n",
    "print (\"Annotation: {:d} terms\".format(len(data['terms'])))"
   ]
  },
  {
   "cell_type": "code",
   "execution_count": 6,
   "metadata": {
    "collapsed": false
   },
   "outputs": [
    {
     "data": {
      "text/plain": [
       "{'I': array([[ 0.,  0.,  0., ...,  0.,  0.,  0.],\n",
       "        [ 0.,  0.,  0., ...,  0.,  0.,  0.],\n",
       "        [ 0.,  0.,  0., ...,  0.,  0.,  0.],\n",
       "        ..., \n",
       "        [ 0.,  0.,  1., ...,  0.,  0.,  0.],\n",
       "        [ 0.,  0.,  0., ...,  0.,  0.,  0.],\n",
       "        [ 0.,  0.,  0., ...,  0.,  0.,  0.]]),\n",
       " 'Y': array([[ 1.        ,  1.97562836,  1.09368974, ...,  2.24718223,\n",
       "          1.1318887 ,  0.64564788],\n",
       "        [ 1.        ,  0.80496081,  0.72473836, ...,  3.24174244,\n",
       "          2.44347864,  0.98278187],\n",
       "        [ 1.        ,  2.17964686,  2.70644831, ...,  0.        ,\n",
       "          1.90543747,  2.03367569],\n",
       "        ..., \n",
       "        [ 3.        ,  2.85302202,  0.        , ...,  1.2602093 ,\n",
       "          0.        ,  0.        ],\n",
       "        [ 3.        ,  0.37237619,  0.37237619, ...,  0.        ,\n",
       "          0.        ,  0.        ],\n",
       "        [ 3.        ,  0.        ,  1.53851131, ...,  0.94168378,\n",
       "          0.94168378,  0.        ]]),\n",
       " 'genes': ['Gnai3',\n",
       "  'Cdc45',\n",
       "  'Ccnd2',\n",
       "  'Itgb2',\n",
       "  'Raf1',\n",
       "  'Kat2b',\n",
       "  'Rpa1',\n",
       "  'Mmp11',\n",
       "  'Itgb7',\n",
       "  'Vwf',\n",
       "  'Esam',\n",
       "  'Ccne1',\n",
       "  'Rec8',\n",
       "  'Ranbp2',\n",
       "  'Ncstn',\n",
       "  'Rps6ka1',\n",
       "  'Col5a3',\n",
       "  'Arhgef18',\n",
       "  'Fblim1',\n",
       "  'Cdc20',\n",
       "  'Pvrl4',\n",
       "  'Cdt1',\n",
       "  'Tle1',\n",
       "  'Hdac5',\n",
       "  'Pten',\n",
       "  'Anapc1',\n",
       "  'Yes1',\n",
       "  'Lama5',\n",
       "  'Plcg1',\n",
       "  'Brca1',\n",
       "  'Timp2',\n",
       "  'Cdc6',\n",
       "  'Abr',\n",
       "  'Crk',\n",
       "  'Aatf',\n",
       "  'Ndel1',\n",
       "  'E2f2',\n",
       "  'Plod1',\n",
       "  'Grb7',\n",
       "  'Syne1',\n",
       "  'Fyn',\n",
       "  'Psen1',\n",
       "  'Nedd1',\n",
       "  'Mdm2',\n",
       "  'Hus1',\n",
       "  'Pttg1',\n",
       "  'Adcy1',\n",
       "  'Cenpo',\n",
       "  'Adcy3',\n",
       "  'Pecam1',\n",
       "  'Nup85',\n",
       "  'Pafah1b1',\n",
       "  'Mpp5',\n",
       "  'Syk',\n",
       "  'Adcy2',\n",
       "  'Cep72',\n",
       "  'Tert',\n",
       "  'Kif2a',\n",
       "  'Dhfr',\n",
       "  'Ube2e1',\n",
       "  'Arhgef3',\n",
       "  'Mapk8',\n",
       "  'Ppp2r2a',\n",
       "  'Dok2',\n",
       "  'Cldn10',\n",
       "  'Smc1b',\n",
       "  'Hdac7',\n",
       "  'Ptk2',\n",
       "  'Mapk12',\n",
       "  'Pvrl3',\n",
       "  'Dlg1',\n",
       "  'Adcy5',\n",
       "  'Pros1',\n",
       "  'Itsn1',\n",
       "  'Cdc23',\n",
       "  'Lama3',\n",
       "  'Gabbr1',\n",
       "  'Tle4',\n",
       "  'Rps6kb2',\n",
       "  'Csnk1d',\n",
       "  'Chuk',\n",
       "  'Btrc',\n",
       "  'Tbl1x',\n",
       "  'Dctn2',\n",
       "  'Atrip',\n",
       "  'Rps6ka6',\n",
       "  'Plk4',\n",
       "  'Stag2',\n",
       "  'Creb1',\n",
       "  'Col3a1',\n",
       "  'Tuba4a',\n",
       "  'Lamc1',\n",
       "  'Ahctf1',\n",
       "  'Ppp2r5a',\n",
       "  'Mcm10',\n",
       "  'Nuf2',\n",
       "  'Cenpl',\n",
       "  'Anapc2',\n",
       "  'Itgav',\n",
       "  'F2',\n",
       "  'Haus2',\n",
       "  'Rasgrp1',\n",
       "  'Mcm8',\n",
       "  'Bub1',\n",
       "  'Aurka',\n",
       "  'E2f5',\n",
       "  'Tbl1xr1',\n",
       "  'Gnb4',\n",
       "  'Ect2',\n",
       "  'Map3k7',\n",
       "  'Tln1',\n",
       "  'Orc1',\n",
       "  'Casp9',\n",
       "  'Mtor',\n",
       "  'Arhgef16',\n",
       "  'Anapc4',\n",
       "  'Rfc5',\n",
       "  'Chek2',\n",
       "  'Mad1l1',\n",
       "  'Cdk8',\n",
       "  'Wasl',\n",
       "  'Cul1',\n",
       "  'Grin2b',\n",
       "  'Slc7a9',\n",
       "  'Cd19',\n",
       "  'Stim1',\n",
       "  'Cenpi',\n",
       "  'Col4a1',\n",
       "  'Col4a2',\n",
       "  'Ikbkb',\n",
       "  'Cenpn',\n",
       "  'Mmp15',\n",
       "  'Pik3r2',\n",
       "  'Maml2',\n",
       "  'Jam3',\n",
       "  'Kirrel3',\n",
       "  'Ppp2r1b',\n",
       "  'Zwilch',\n",
       "  'Atr',\n",
       "  'Atp1b3',\n",
       "  'Nck1',\n",
       "  'Cdc25a',\n",
       "  'Gorasp1',\n",
       "  'Cep63',\n",
       "  'Lama1',\n",
       "  'Slc16a1',\n",
       "  'Terf2ip',\n",
       "  'Gabrb3',\n",
       "  'Plcg2',\n",
       "  'Cbl',\n",
       "  'Glt25d1',\n",
       "  'Ap2b1',\n",
       "  'Chrnb4',\n",
       "  'Cep135',\n",
       "  'Cdh8',\n",
       "  'Kirrel2',\n",
       "  'Arhgef4',\n",
       "  'Fermt2',\n",
       "  'Sirpa',\n",
       "  'Kcnj9',\n",
       "  'Camk4',\n",
       "  'Cdc16',\n",
       "  'Mapkap1',\n",
       "  'Fkbp6',\n",
       "  'Orc3',\n",
       "  'Thbs1',\n",
       "  'Ckap5',\n",
       "  'Cd79b',\n",
       "  'Wrap53',\n",
       "  'Pik3r1',\n",
       "  'Ccnb1',\n",
       "  'Lyn',\n",
       "  'Itpr3',\n",
       "  'Cep164',\n",
       "  'Cdc25c',\n",
       "  'Phlpp1',\n",
       "  'Rapgef4',\n",
       "  'Rictor',\n",
       "  'Actn2',\n",
       "  'Skp2',\n",
       "  'Cep70',\n",
       "  'Lin9',\n",
       "  'Ppp2r5d',\n",
       "  'Ptk2b',\n",
       "  'Hspa2',\n",
       "  'Kalrn',\n",
       "  'Nsl1',\n",
       "  'Mapk1',\n",
       "  'Col23a1',\n",
       "  'Alms1',\n",
       "  'Cenpj',\n",
       "  'Clasp1',\n",
       "  'Akap13',\n",
       "  'Cldn9',\n",
       "  'Hdac8',\n",
       "  'Fgfr1op'],\n",
       " 'lab': RangeIndex(start=0, stop=182, step=1),\n",
       " 'terms': array(['Apoptotic cleavage of', 'Nef mediated downregu',\n",
       "        'Cell cell communicati', 'Nef mediates down mod',\n",
       "        'Immunoregulatory inte', 'Cell cycle', 'Degradation of the ex',\n",
       "        'Downstream signaling ', 'Activation of nf kapp',\n",
       "        'Antigen activates b c', 'Signaling by the b ce',\n",
       "        'Extracellular matrix ', 'Notch1 intracellular ',\n",
       "        'Cell surface interact', 'Integrin cell surface',\n",
       "        'Apoptotic cleavage of', 'Nrif signals cell dea',\n",
       "        'Regulation of beta ce', 'Cell death signalling',\n",
       "        'Regulation of gene ex', 'Cell cycle mitotic',\n",
       "        'Neurotransmitter rece', 'Cell cycle checkpoint',\n",
       "        'Sema4d induced cell m', 'Cell cell junction or',\n",
       "        'Cell extracellular ma', 'Cell junction organiz',\n",
       "        'Regulation of mitotic', 'Nep ns2 interacts wit',\n",
       "        'Interactions of vpr w'], \n",
       "       dtype='|S21')}"
      ]
     },
     "execution_count": 6,
     "metadata": {},
     "output_type": "execute_result"
    }
   ],
   "source": [
    "data"
   ]
  },
  {
   "cell_type": "code",
   "execution_count": 9,
   "metadata": {
    "collapsed": false
   },
   "outputs": [
    {
     "data": {
      "text/plain": [
       "(182, 196)"
      ]
     },
     "execution_count": 9,
     "metadata": {},
     "output_type": "execute_result"
    }
   ],
   "source": [
    "data['Y'].shape"
   ]
  },
  {
   "cell_type": "markdown",
   "metadata": {},
   "source": [
    "## Initializing the f-scLVM model"
   ]
  },
  {
   "cell_type": "code",
   "execution_count": 11,
   "metadata": {
    "collapsed": true
   },
   "outputs": [],
   "source": [
    "#I: indicator matrix that assigns genes to pathways\n",
    "I = data['I'] \n",
    "#Y: log expression values \n",
    "Y = data['Y']\n",
    "#terms: ther names of the terms\n",
    "terms = data['terms']\n",
    "\n",
    "#initialize FA instance, here using a Gaussian noise model and fitting 5 dense hidden factors\n",
    "FA = fscLVM.initFA(Y, terms, I, noise='gauss', nHidden=5, pruneGenes=True, minGenes=10)"
   ]
  },
  {
   "cell_type": "markdown",
   "metadata": {},
   "source": [
    "## Model training"
   ]
  },
  {
   "cell_type": "code",
   "execution_count": 12,
   "metadata": {
    "collapsed": false
   },
   "outputs": [
    {
     "name": "stdout",
     "output_type": "stream",
     "text": [
      "iteration 0\n",
      "iteration 100\n",
      "iteration 200\n",
      "iteration 300\n",
      "iteration 400\n",
      "iteration 500\n",
      "iteration 600\n",
      "iteration 700\n",
      "Converged after 701 iterations\n",
      "('Maximally ', 0.0, '% Genes per factor changed.')\n"
     ]
    }
   ],
   "source": [
    "#model training\n",
    "FA.train()\n",
    "\n",
    "#print diagnostics\n",
    "FA.printDiagnostics()"
   ]
  },
  {
   "cell_type": "code",
   "execution_count": 13,
   "metadata": {
    "collapsed": false
   },
   "outputs": [
    {
     "name": "stderr",
     "output_type": "stream",
     "text": [
      "/Users/davis/anaconda/envs/py2.7/lib/python2.7/site-packages/fscLVM/utils.py:403: RuntimeWarning: invalid value encountered in divide\n",
      "  y_max = SP.ceil(max(n_gain)/gap)\n",
      "/Users/davis/anaconda/envs/py2.7/lib/python2.7/site-packages/fscLVM/utils.py:404: RuntimeWarning: invalid value encountered in double_scalars\n",
      "  y_min = SP.floor(min(n_loss)/gap)\n"
     ]
    },
    {
     "data": {
      "image/png": "[encoded data removed]",
      "text/plain": [
       "<matplotlib.figure.Figure at 0x10461b450>"
      ]
     },
     "metadata": {},
     "output_type": "display_data"
    }
   ],
   "source": [
    "#plot results\n",
    "fig = plotRelevance(FA)"
   ]
  },
  {
   "cell_type": "code",
   "execution_count": 14,
   "metadata": {
    "collapsed": false
   },
   "outputs": [
    {
     "ename": "IndexError",
     "evalue": "too many indices for array",
     "output_type": "error",
     "traceback": [
      "\u001b[0;31m---------------------------------------------------------------------------\u001b[0m",
      "\u001b[0;31mIndexError\u001b[0m                                Traceback (most recent call last)",
      "\u001b[0;32m<ipython-input-14-d08f84221e2d>\u001b[0m in \u001b[0;36m<module>\u001b[0;34m()\u001b[0m\n\u001b[0;32m----> 1\u001b[0;31m \u001b[0mplotLoadings\u001b[0m\u001b[0;34m(\u001b[0m\u001b[0mFA\u001b[0m\u001b[0;34m,\u001b[0m \u001b[0;34m'Integrin cell surface'\u001b[0m\u001b[0;34m)\u001b[0m\u001b[0;34m\u001b[0m\u001b[0m\n\u001b[0m",
      "\u001b[0;32m/Users/davis/anaconda/envs/py2.7/lib/python2.7/site-packages/fscLVM/utils.pyc\u001b[0m in \u001b[0;36mplotLoadings\u001b[0;34m(FA, term, n_genes)\u001b[0m\n\u001b[1;32m    235\u001b[0m     \u001b[0mplt\u001b[0m\u001b[0;34m.\u001b[0m\u001b[0mxlabel\u001b[0m\u001b[0;34m(\u001b[0m\u001b[0;34m'Abs. weight'\u001b[0m\u001b[0;34m,\u001b[0m\u001b[0mfontsize\u001b[0m \u001b[0;34m=\u001b[0m \u001b[0;36m14\u001b[0m\u001b[0;34m)\u001b[0m\u001b[0;34m\u001b[0m\u001b[0m\n\u001b[1;32m    236\u001b[0m     \u001b[0mplt\u001b[0m\u001b[0;34m.\u001b[0m\u001b[0mylabel\u001b[0m\u001b[0;34m(\u001b[0m\u001b[0;34m'Genes'\u001b[0m\u001b[0;34m,\u001b[0m\u001b[0mfontsize\u001b[0m \u001b[0;34m=\u001b[0m \u001b[0;36m14\u001b[0m\u001b[0;34m)\u001b[0m\u001b[0;34m\u001b[0m\u001b[0m\n\u001b[0;32m--> 237\u001b[0;31m     \u001b[0mplt\u001b[0m\u001b[0;34m.\u001b[0m\u001b[0myticks\u001b[0m\u001b[0;34m(\u001b[0m\u001b[0my\u001b[0m\u001b[0;34m,\u001b[0m\u001b[0mgene_labels\u001b[0m\u001b[0;34m[\u001b[0m\u001b[0mgene_index\u001b[0m\u001b[0;34m]\u001b[0m\u001b[0;34m,\u001b[0m\u001b[0mfontsize\u001b[0m \u001b[0;34m=\u001b[0m \u001b[0;36m14\u001b[0m\u001b[0;34m)\u001b[0m\u001b[0;34m\u001b[0m\u001b[0m\n\u001b[0m\u001b[1;32m    238\u001b[0m     \u001b[0mplt\u001b[0m\u001b[0;34m.\u001b[0m\u001b[0mxticks\u001b[0m\u001b[0;34m(\u001b[0m\u001b[0mfontsize\u001b[0m \u001b[0;34m=\u001b[0m \u001b[0;36m13\u001b[0m\u001b[0;34m)\u001b[0m\u001b[0;34m\u001b[0m\u001b[0m\n\u001b[1;32m    239\u001b[0m \u001b[0;34m\u001b[0m\u001b[0m\n",
      "\u001b[0;31mIndexError\u001b[0m: too many indices for array"
     ]
    },
    {
     "data": {
      "image/png": "[encoded data removed]",
      "text/plain": [
       "<matplotlib.figure.Figure at 0x11002ca10>"
      ]
     },
     "metadata": {},
     "output_type": "display_data"
    }
   ],
   "source": [
    "plotLoadings(FA, 'Integrin cell surface')"
   ]
  },
  {
   "cell_type": "markdown",
   "metadata": {},
   "source": [
    "## Save results for comparison"
   ]
  },
  {
   "cell_type": "code",
   "execution_count": 17,
   "metadata": {
    "collapsed": false
   },
   "outputs": [],
   "source": [
    "out_file = os.path.join(out_dir,'slalom_example_data_python_fsclvm_results.h5')\n",
    "saveFA(FA, out_name=out_file, saveF=False)"
   ]
  },
  {
   "cell_type": "code",
   "execution_count": 18,
   "metadata": {
    "collapsed": false
   },
   "outputs": [
    {
     "name": "stdout",
     "output_type": "stream",
     "text": [
      "I\n",
      "W\n",
      "X\n",
      "Z\n",
      "idx_genes\n",
      "relevance\n",
      "terms\n"
     ]
    }
   ],
   "source": [
    "h = h5py.File(out_file)\n",
    "for name in h:\n",
    "    print name"
   ]
  },
  {
   "cell_type": "code",
   "execution_count": 22,
   "metadata": {
    "collapsed": false
   },
   "outputs": [
    {
     "data": {
      "text/plain": [
       "<fscLVM.bayesnet.vbfa.CNodeZ at 0x10f6e2e90>"
      ]
     },
     "execution_count": 22,
     "metadata": {},
     "output_type": "execute_result"
    }
   ],
   "source": [
    "FA.Z"
   ]
  },
  {
   "cell_type": "code",
   "execution_count": 23,
   "metadata": {
    "collapsed": false
   },
   "outputs": [
    {
     "ename": "TypeError",
     "evalue": "'CNodeZ' object is not iterable",
     "output_type": "error",
     "traceback": [
      "\u001b[0;31m---------------------------------------------------------------------------\u001b[0m",
      "\u001b[0;31mTypeError\u001b[0m                                 Traceback (most recent call last)",
      "\u001b[0;32m<ipython-input-23-4e9792f915cb>\u001b[0m in \u001b[0;36m<module>\u001b[0;34m()\u001b[0m\n\u001b[0;32m----> 1\u001b[0;31m \u001b[0;32mfor\u001b[0m \u001b[0mthing\u001b[0m \u001b[0;32min\u001b[0m \u001b[0mFA\u001b[0m\u001b[0;34m.\u001b[0m\u001b[0mZ\u001b[0m\u001b[0;34m:\u001b[0m\u001b[0;34m\u001b[0m\u001b[0m\n\u001b[0m\u001b[1;32m      2\u001b[0m     \u001b[0mthing\u001b[0m\u001b[0;34m\u001b[0m\u001b[0m\n",
      "\u001b[0;31mTypeError\u001b[0m: 'CNodeZ' object is not iterable"
     ]
    }
   ],
   "source": [
    "for thing in FA.Z:\n",
    "    thing"
   ]
  },
  {
   "cell_type": "code",
   "execution_count": null,
   "metadata": {
    "collapsed": true
   },
   "outputs": [],
   "source": []
  }
 ],
 "metadata": {
  "anaconda-cloud": {},
  "kernelspec": {
   "display_name": "Python [conda env:py2.7]",
   "language": "python",
   "name": "conda-env-py2.7-py"
  },
  "language_info": {
   "codemirror_mode": {
    "name": "ipython",
    "version": 2
   },
   "file_extension": ".py",
   "mimetype": "text/x-python",
   "name": "python",
   "nbconvert_exporter": "python",
   "pygments_lexer": "ipython2",
   "version": "2.7.12"
  }
 },
 "nbformat": 4,
 "nbformat_minor": 1
}
