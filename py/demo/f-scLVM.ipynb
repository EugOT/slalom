{
 "cells": [
  {
   "cell_type": "markdown",
   "metadata": {},
   "source": [
    "#f-scLVM"
   ]
  },
  {
   "cell_type": "markdown",
   "metadata": {},
   "source": [
    "In this notebook we illustrate how f-scLVM can be used to identify biological processes driving variability between cells."
   ]
  },
  {
   "cell_type": "markdown",
   "metadata": {},
   "source": [
    "First, we load some modules and set some directories"
   ]
  },
  {
   "cell_type": "code",
   "execution_count": 15,
   "metadata": {
    "collapsed": true
   },
   "outputs": [],
   "source": [
    "import sys\n",
    "import os\n",
    "import ast\n",
    "sys.path.append('./..')\n",
    "import scipy as SP\n",
    "import cPickle as pickle\n",
    "import core.fscLVM as fscLVM\n",
    "from core.utils import *\n",
    "import h5py\n",
    "\n",
    "\n",
    "data_dir = '../../data/'\n",
    "out_base = './results/'"
   ]
  },
  {
   "cell_type": "markdown",
   "metadata": {},
   "source": [
    "f-scLVM expects a hdf file containing the normalised, log transformed gene expression data as well as a set of annotations."
   ]
  },
  {
   "cell_type": "code",
   "execution_count": 16,
   "metadata": {
    "collapsed": true
   },
   "outputs": [],
   "source": [
    "dFile = 'Buettneretal.hdf5'\n",
    "#name of annotation\n",
    "anno = 'MSigDBdemo'\n",
    "#number of hidden (unannptated variables)\n",
    "nHidden = 3\n",
    "#indices of known covariates\n",
    "idx_known = []\n",
    "#number of iterations\n",
    "nIterations = 500\n",
    "\n",
    "idxCol=[0,1]\n",
    "#should the fast option be used (recommende). This only considers genes which are annotated to at least one process.\n",
    "doFast=True\n",
    "\n",
    "#specify out_dir\n",
    "if doFast==False:      \n",
    "    out_dir = os.path.join(out_base,  dFile.split('.')[0],anno)\n",
    "else:\n",
    "    out_dir = os.path.join(out_base,  dFile.split('.')[0],anno+'_fast')\n",
    "\n",
    "if not os.path.exists(out_dir):\n",
    "    os.makedirs(out_dir)"
   ]
  },
  {
   "cell_type": "markdown",
   "metadata": {},
   "source": [
    "Next we need to load the relevant data from the hdf5 file."
   ]
  },
  {
   "cell_type": "code",
   "execution_count": 17,
   "metadata": {
    "collapsed": false
   },
   "outputs": [
    {
     "name": "stdout",
     "output_type": "stream",
     "text": [
      "./results/Buettneretal/MSigDBdemo_fast/resHidden3_Known__0.hdf5\n"
     ]
    }
   ],
   "source": [
    "#min. numer of genes per process\n",
    "minGenes = 15\n",
    "dataFile = h5py.File(os.path.join(data_dir, dFile), 'r')\n",
    "\n",
    "terms = dataFile['terms'][:]#[50:]\n",
    "pi = dataFile['Pi'][:].T#[:,50:]\n",
    "\n",
    "Y = dataFile['Yhet'][:].T\n",
    "#center data\n",
    "Y-=SP.mean(Y,0)\n",
    "\n",
    "#exclude small terms\n",
    "terms = terms[SP.sum(pi>.5,0)>minGenes]\n",
    "pi = pi[:,SP.sum(pi>.5,0)>minGenes]\n",
    "\n",
    "#fast option?\n",
    "if doFast==True:\n",
    "    idx_genes  = SP.logical_and(SP.sum(pi>.5,1)>0, Y.mean(0)>0.)#SP.any(pi>.5,1)\n",
    "    Y = Y[:,idx_genes]\n",
    "    pi = pi[idx_genes,:]\n",
    "\n",
    "#include hidden variables\n",
    "terms = SP.hstack([SP.repeat('hidden',nHidden), terms])\n",
    "pi = SP.hstack([SP.ones((Y.shape[1],nHidden))*.99,pi])\n",
    "\n",
    "\n",
    "#include known covariates\n",
    "init_factors = {}\n",
    "if len(idx_known)>0:\n",
    "    known_names = dataFile['known_names'][:][idx_known]\n",
    "    if len(dataFile['Known'][:].shape)>1:\n",
    "        known = dataFile['Known'][:].T[:,idx_known]\n",
    "    else:\n",
    "        known = dataFile['Known'][:][:,SP.newaxis]\n",
    "    known -= known.mean(0)\n",
    "    known /= known.std(0)\n",
    "    terms = SP.hstack([ known_names,terms])\n",
    "    pi = SP.hstack([SP.ones((Y.shape[1],len(idx_known)))*.5,pi])\n",
    "    init_factors['Known'] = known             \n",
    "else:\n",
    "    known_names = '0'\n",
    "\n",
    "\n",
    "#specify out_file\n",
    "out_file = 'resHidden'+str(nHidden)+'_Known__'+'__'.join(known_names)+'.hdf5'\n",
    "out_name = os.path.join(out_dir, out_file)\n",
    "print out_name  \n",
    "\n",
    "terms0=terms.copy()\n",
    "pi0=pi.copy()\n",
    "\n",
    "\n"
   ]
  },
  {
   "cell_type": "markdown",
   "metadata": {},
   "source": [
    "Next, we initialise the model and iterate.\n"
   ]
  },
  {
   "cell_type": "code",
   "execution_count": 18,
   "metadata": {
    "collapsed": false
   },
   "outputs": [
    {
     "name": "stdout",
     "output_type": "stream",
     "text": [
      "['hidden' 'hidden' 'hidden' 'APICAL_SURFACE' 'P53_PATHWAY' 'G2M_CHECKPOINT'\n",
      " 'UNFOLDED_PROTEIN_RESPONSE' 'KRAS_SIGNALING_UP' 'ADIPOGENESIS'\n",
      " 'EPITHELIAL_MESENCHYMAL_TRANSITION' 'DNA_REPAIR' 'MITOTIC_SPINDLE'\n",
      " 'KRAS_SIGNALING_DN' 'CHOLESTEROL_HOMEOSTASIS' 'BILE_ACID_METABOLISM'\n",
      " 'UV_RESPONSE_UP' 'INFLAMMATORY_RESPONSE' 'MYC_TARGETS_V2'\n",
      " 'TGF_BETA_SIGNALING' 'PEROXISOME' 'ANDROGEN_RESPONSE' 'MYC_TARGETS_V1'\n",
      " 'OXIDATIVE_PHOSPHORYLATION' 'INTERFERON_ALPHA_RESPONSE'\n",
      " 'FATTY_ACID_METABOLISM' 'APOPTOSIS' 'TNFA_SIGNALING_VIA_NFKB'\n",
      " 'PI3K_AKT_MTOR_SIGNALING' 'SPERMATOGENESIS' 'PROTEIN_SECRETION'\n",
      " 'IL6_JAK_STAT3_SIGNALING' 'MTORC1_SIGNALING' 'COMPLEMENT'\n",
      " 'ALLOGRAFT_REJECTION' 'HYPOXIA' 'E2F_TARGETS' 'HEME_METABOLISM'\n",
      " 'APICAL_JUNCTION' 'INTERFERON_GAMMA_RESPONSE' 'XENOBIOTIC_METABOLISM'\n",
      " 'COAGULATION' 'UV_RESPONSE_DN' 'MYOGENESIS' 'ESTROGEN_RESPONSE_LATE'\n",
      " 'GLYCOLYSIS' 'ESTROGEN_RESPONSE_EARLY' 'IL2_STAT5_SIGNALING']\n",
      "reconstruction error: 0.741979 lower bound: 0.000000\n",
      "reconstruction error: 0.830011 lower bound: 0.000000\n",
      "reconstruction error: 0.576166 lower bound: 0.000000\n",
      "reconstruction error: 0.577581 lower bound: 0.000000\n",
      "reconstruction error: 0.578854 lower bound: 0.000000\n",
      "reconstruction error: 0.578855 lower bound: 0.000000\n"
     ]
    },
    {
     "data": {
      "text/plain": [
       "0.57885554261667116"
      ]
     },
     "execution_count": 18,
     "metadata": {},
     "output_type": "execute_result"
    }
   ],
   "source": [
    "reload(fscLVM)\n",
    "init_factors['iLatent'] = SP.where(terms=='hidden')[0]\n",
    "\n",
    "#use pre-training to determine initial update order \n",
    "Ilabel = preTrain(Y, terms, pi,init_factors) \n",
    "\n",
    "#re-order terms\n",
    "print terms0[Ilabel]\n",
    "terms = terms0[Ilabel]\n",
    "pi = pi0[:,Ilabel]\n",
    "\n",
    "#Set FNR\n",
    "pi[pi<.1] =1e-3\n",
    "\n",
    "#initialise model\n",
    "init={'init_data':sparseFA.CGauss(Y),'Pi':pi,'init_factors':init_factors}\n",
    "priors = {'Eps': {'priors':[1E-3,1E-3]}}\n",
    "FA = fscLVM.CSparseFA(components=pi.shape[1], nIterations=nIterations)            \n",
    "FA.shuffle=True\n",
    "FA.init(**init) \n",
    "\n",
    "#iterate\n",
    "FA.iterate(forceIterations=True, nIterations=nIterations)"
   ]
  },
  {
   "cell_type": "code",
   "execution_count": 23,
   "metadata": {
    "collapsed": false
   },
   "outputs": [
    {
     "data": {
      "text/plain": [
       "array([ 0.001,  0.001,  0.001,  0.001,  0.001,  0.001,  0.001,  0.001,\n",
       "        0.001,  0.001,  0.001,  0.001,  0.001,  0.99 ,  0.001,  0.001,\n",
       "        0.001,  0.001,  0.001,  0.001,  0.001,  0.001,  0.001,  0.001,\n",
       "        0.001,  0.001,  0.001,  0.001,  0.001,  0.001,  0.001,  0.001,\n",
       "        0.001,  0.001,  0.001,  0.001,  0.001,  0.001,  0.001,  0.001,\n",
       "        0.001,  0.001,  0.001,  0.001,  0.001,  0.001,  0.001,  0.001,\n",
       "        0.001,  0.001,  0.001,  0.001,  0.001,  0.001,  0.001,  0.001,\n",
       "        0.001,  0.001,  0.001,  0.001,  0.001,  0.99 ,  0.001,  0.001,\n",
       "        0.001,  0.001,  0.001,  0.001,  0.99 ,  0.001,  0.99 ,  0.001,\n",
       "        0.001,  0.001,  0.001,  0.001,  0.001,  0.001,  0.001,  0.001,\n",
       "        0.001,  0.001,  0.001,  0.001,  0.001,  0.001,  0.001,  0.001,\n",
       "        0.001,  0.001,  0.001,  0.001,  0.001,  0.001,  0.001,  0.001,\n",
       "        0.001,  0.001,  0.001,  0.001,  0.001,  0.001,  0.001,  0.001,\n",
       "        0.001,  0.001,  0.001,  0.001,  0.001,  0.001,  0.001,  0.001,\n",
       "        0.001,  0.001,  0.001,  0.001,  0.001,  0.99 ,  0.001,  0.001,\n",
       "        0.001,  0.001,  0.001,  0.001,  0.001,  0.001,  0.001,  0.001,\n",
       "        0.001,  0.001,  0.001,  0.001,  0.001,  0.001,  0.001,  0.001,\n",
       "        0.001,  0.001,  0.001,  0.99 ,  0.001,  0.001,  0.001,  0.001,\n",
       "        0.001,  0.001,  0.001,  0.001,  0.001,  0.001,  0.001,  0.001,\n",
       "        0.001,  0.001,  0.001,  0.001,  0.001,  0.001,  0.001,  0.001,\n",
       "        0.001,  0.001,  0.001,  0.001,  0.001,  0.001,  0.001,  0.001,\n",
       "        0.001,  0.001,  0.001,  0.001,  0.001,  0.001,  0.001,  0.001,\n",
       "        0.001,  0.001,  0.001,  0.001,  0.001,  0.001,  0.99 ,  0.001,\n",
       "        0.001,  0.001,  0.001,  0.001,  0.001,  0.001,  0.001,  0.001,\n",
       "        0.001,  0.001,  0.001,  0.001,  0.001,  0.001,  0.001,  0.001,\n",
       "        0.001,  0.001,  0.001,  0.001,  0.001,  0.001,  0.001,  0.001,\n",
       "        0.001,  0.001,  0.001,  0.001,  0.001,  0.001,  0.001,  0.001,\n",
       "        0.001,  0.001,  0.001,  0.001,  0.001,  0.001,  0.001,  0.001,\n",
       "        0.001,  0.001,  0.001,  0.001,  0.001,  0.001,  0.001,  0.001,\n",
       "        0.001,  0.001,  0.001,  0.001,  0.001,  0.001,  0.001,  0.001,\n",
       "        0.001,  0.001,  0.001,  0.001,  0.001,  0.001,  0.001,  0.001,\n",
       "        0.001,  0.001,  0.001,  0.99 ,  0.001,  0.001,  0.001,  0.001,\n",
       "        0.001,  0.001,  0.001,  0.001,  0.001,  0.001,  0.001,  0.001,\n",
       "        0.001,  0.001,  0.001,  0.001,  0.001,  0.001,  0.001,  0.99 ,\n",
       "        0.001,  0.001,  0.001,  0.001,  0.001,  0.001,  0.001,  0.001,\n",
       "        0.001,  0.001,  0.001,  0.001,  0.001,  0.001,  0.001,  0.001,\n",
       "        0.001,  0.001,  0.001,  0.001,  0.001,  0.001,  0.001,  0.001,\n",
       "        0.001,  0.001,  0.001,  0.001,  0.99 ,  0.001,  0.001,  0.001,\n",
       "        0.99 ,  0.001,  0.001,  0.001,  0.001,  0.001,  0.99 ,  0.001,\n",
       "        0.99 ,  0.001,  0.001,  0.001,  0.001,  0.001,  0.001,  0.001,\n",
       "        0.001,  0.001,  0.001,  0.001,  0.001,  0.001,  0.001,  0.001,\n",
       "        0.001,  0.99 ,  0.001,  0.001,  0.001,  0.001,  0.001,  0.99 ,\n",
       "        0.001,  0.001,  0.99 ,  0.001,  0.001,  0.001,  0.001,  0.001,\n",
       "        0.001,  0.001,  0.001,  0.001,  0.001,  0.001,  0.001,  0.001,\n",
       "        0.001,  0.001,  0.001,  0.001,  0.001,  0.001,  0.001,  0.001,\n",
       "        0.001,  0.001,  0.001,  0.001,  0.001,  0.001,  0.001,  0.001,\n",
       "        0.001,  0.001,  0.001,  0.001,  0.001,  0.001,  0.001,  0.001,\n",
       "        0.001,  0.001,  0.001,  0.001,  0.001,  0.001,  0.001,  0.001,\n",
       "        0.001,  0.001,  0.001,  0.001,  0.001,  0.001,  0.001,  0.001,\n",
       "        0.001,  0.001,  0.001,  0.001,  0.001,  0.001,  0.001,  0.001,\n",
       "        0.001,  0.001,  0.001,  0.001,  0.001,  0.001,  0.001,  0.001,\n",
       "        0.001,  0.99 ,  0.001,  0.001,  0.001,  0.001,  0.001,  0.001,\n",
       "        0.001,  0.001,  0.001,  0.001,  0.001,  0.001,  0.001,  0.001,\n",
       "        0.001,  0.001,  0.001,  0.001,  0.001,  0.001,  0.001,  0.001,\n",
       "        0.001,  0.001,  0.99 ,  0.001,  0.001,  0.001,  0.001,  0.001,\n",
       "        0.001,  0.001,  0.001,  0.001,  0.001,  0.001,  0.001,  0.001,\n",
       "        0.001,  0.001,  0.001,  0.99 ,  0.001,  0.99 ,  0.001,  0.001,\n",
       "        0.001,  0.001,  0.001,  0.001,  0.001,  0.001,  0.001,  0.001,\n",
       "        0.001,  0.99 ,  0.001,  0.001,  0.001,  0.001,  0.001,  0.001,\n",
       "        0.001,  0.001,  0.001,  0.001,  0.001,  0.001,  0.001,  0.001,\n",
       "        0.001,  0.001,  0.001,  0.001,  0.001,  0.001,  0.001,  0.001,\n",
       "        0.001,  0.001,  0.001,  0.001,  0.001,  0.001,  0.001,  0.001,\n",
       "        0.001,  0.001,  0.001,  0.001,  0.99 ,  0.001,  0.001,  0.001,\n",
       "        0.99 ,  0.001,  0.001,  0.001,  0.001,  0.001,  0.001,  0.001,\n",
       "        0.001,  0.001,  0.001,  0.001,  0.001,  0.001,  0.001,  0.001,\n",
       "        0.001,  0.001,  0.001,  0.001,  0.001,  0.001,  0.001,  0.001,\n",
       "        0.001,  0.001,  0.001,  0.001,  0.001,  0.99 ,  0.001,  0.001,\n",
       "        0.001,  0.001,  0.001,  0.001,  0.001,  0.001,  0.001,  0.001,\n",
       "        0.001,  0.001,  0.001,  0.001,  0.001,  0.001,  0.001,  0.001,\n",
       "        0.001,  0.001,  0.001,  0.001,  0.001,  0.001,  0.001,  0.001,\n",
       "        0.001,  0.001,  0.001,  0.001,  0.001,  0.001,  0.001,  0.001,\n",
       "        0.001,  0.001,  0.001,  0.001,  0.001,  0.001,  0.001,  0.001,\n",
       "        0.99 ,  0.001,  0.001,  0.001,  0.001,  0.001,  0.001,  0.001,\n",
       "        0.001,  0.001,  0.001,  0.001,  0.001,  0.001,  0.001,  0.001,\n",
       "        0.99 ,  0.99 ,  0.001,  0.001,  0.001,  0.001,  0.001,  0.99 ,\n",
       "        0.001,  0.001,  0.001,  0.001,  0.001,  0.001,  0.001,  0.99 ,\n",
       "        0.001,  0.001,  0.001,  0.001,  0.001,  0.001,  0.001,  0.001,\n",
       "        0.001,  0.001,  0.99 ,  0.001,  0.001,  0.001,  0.001,  0.001,\n",
       "        0.001,  0.001,  0.99 ,  0.99 ,  0.99 ,  0.001,  0.001,  0.001,\n",
       "        0.001,  0.001,  0.001,  0.001,  0.001,  0.001,  0.001,  0.001,\n",
       "        0.001,  0.99 ,  0.001,  0.001,  0.001,  0.001,  0.001,  0.001,\n",
       "        0.001,  0.001,  0.001,  0.001,  0.001,  0.001,  0.001,  0.001,\n",
       "        0.001,  0.001,  0.001,  0.001,  0.99 ,  0.001,  0.001,  0.001,\n",
       "        0.001,  0.001,  0.001,  0.001,  0.001,  0.001,  0.001,  0.001,\n",
       "        0.001,  0.001,  0.001,  0.001,  0.99 ,  0.001,  0.001,  0.99 ,\n",
       "        0.001,  0.001,  0.99 ,  0.001,  0.001,  0.001,  0.001,  0.001,\n",
       "        0.001,  0.001,  0.001,  0.001,  0.001,  0.99 ,  0.001,  0.001,\n",
       "        0.001,  0.001,  0.001,  0.001,  0.001,  0.001,  0.001,  0.99 ,\n",
       "        0.001,  0.001,  0.001,  0.001,  0.99 ,  0.001,  0.001,  0.001,\n",
       "        0.001,  0.001,  0.001,  0.001,  0.001,  0.001,  0.001,  0.001,\n",
       "        0.001,  0.99 ,  0.001,  0.001,  0.001,  0.001,  0.001,  0.001,\n",
       "        0.001,  0.001,  0.001,  0.001,  0.001,  0.001,  0.001,  0.001,\n",
       "        0.001,  0.001,  0.001,  0.001,  0.001,  0.001,  0.001,  0.001,\n",
       "        0.001,  0.001])"
      ]
     },
     "execution_count": 23,
     "metadata": {},
     "output_type": "execute_result"
    }
   ],
   "source": [
    "FA.Pi[:,4]\n",
    "\n"
   ]
  },
  {
   "cell_type": "markdown",
   "metadata": {},
   "source": [
    "We then post-process the result to exclude factors capturing outliers."
   ]
  },
  {
   "cell_type": "code",
   "execution_count": 20,
   "metadata": {
    "collapsed": false
   },
   "outputs": [
    {
     "name": "stdout",
     "output_type": "stream",
     "text": [
      "['P53_PATHWAY' 'G2M_CHECKPOINT' 'hidden' 'hidden' 'hidden'\n",
      " 'PI3K_AKT_MTOR_SIGNALING' 'SPERMATOGENESIS' 'PROTEIN_SECRETION'\n",
      " 'IL6_JAK_STAT3_SIGNALING' 'MTORC1_SIGNALING' 'COMPLEMENT'\n",
      " 'ALLOGRAFT_REJECTION' 'HYPOXIA' 'E2F_TARGETS' 'APICAL_JUNCTION'\n",
      " 'TNFA_SIGNALING_VIA_NFKB' 'INTERFERON_GAMMA_RESPONSE'\n",
      " 'XENOBIOTIC_METABOLISM' 'COAGULATION' 'UV_RESPONSE_DN' 'MYOGENESIS'\n",
      " 'ESTROGEN_RESPONSE_LATE' 'GLYCOLYSIS' 'HEME_METABOLISM' 'APOPTOSIS'\n",
      " 'INTERFERON_ALPHA_RESPONSE' 'ESTROGEN_RESPONSE_EARLY' 'APICAL_SURFACE'\n",
      " 'UNFOLDED_PROTEIN_RESPONSE' 'KRAS_SIGNALING_UP' 'ADIPOGENESIS'\n",
      " 'EPITHELIAL_MESENCHYMAL_TRANSITION' 'DNA_REPAIR' 'MITOTIC_SPINDLE'\n",
      " 'KRAS_SIGNALING_DN' 'FATTY_ACID_METABOLISM' 'CHOLESTEROL_HOMEOSTASIS'\n",
      " 'UV_RESPONSE_UP' 'INFLAMMATORY_RESPONSE' 'MYC_TARGETS_V2'\n",
      " 'TGF_BETA_SIGNALING' 'PEROXISOME' 'ANDROGEN_RESPONSE' 'MYC_TARGETS_V1'\n",
      " 'OXIDATIVE_PHOSPHORYLATION' 'BILE_ACID_METABOLISM' 'IL2_STAT5_SIGNALING']\n",
      "[ 0.04180916  0.02440418  0.0219986   0.00657431  0.00351484  0.          0.\n",
      "  0.          0.          0.          0.          0.          0.          0.\n",
      "  0.          0.          0.          0.          0.          0.          0.\n",
      "  0.          0.          0.          0.          0.          0.          0.\n",
      "  0.          0.          0.          0.          0.          0.          0.\n",
      "  0.          0.          0.          0.          0.          0.          0.\n",
      "  0.          0.          0.          0.          0.        ]\n"
     ]
    }
   ],
   "source": [
    "MAD = mad(FA.S.E1)\n",
    "alpha = (MAD>.5)*(1/(FA.Alpha.E1))\n",
    "idxF = SP.argsort(-alpha)\n",
    "\n",
    "print terms[idxF]\n",
    "print alpha[idxF]\n",
    "\n",
    "#scatter plot of two most important factors\n",
    "plotFac(FA,idxF[0],idxF[1], terms=terms)"
   ]
  },
  {
   "cell_type": "code",
   "execution_count": null,
   "metadata": {
    "collapsed": true
   },
   "outputs": [],
   "source": [
    "#save results\n",
    "out_file = h5py.File(out_name+'.hdf5','w')    \n",
    "out_file['alphaRaw'] = FA.Alpha.E1\n",
    "out_file['alpha'] = alpha  \n",
    "out_file['MAD'] = MAD  \n",
    "out_file['W'] = FA.W.E1\n",
    "out_file['Eps'] = FA.Eps.E1\n",
    "out_file['S'] = FA.S.E1        \n",
    "out_file['Gamma'] = FA.W.C[:,:,0]\n",
    "out_file['pi'] = pi\n",
    "out_file['terms'] = terms\n",
    "out_file.close()\n",
    "pickle.dump(FA, open(out_name+'_FA.pickle', 'w'))"
   ]
  }
 ],
 "metadata": {
  "kernelspec": {
   "display_name": "Python 2",
   "language": "python",
   "name": "python2"
  },
  "language_info": {
   "codemirror_mode": {
    "name": "ipython",
    "version": 2
   },
   "file_extension": ".py",
   "mimetype": "text/x-python",
   "name": "python",
   "nbconvert_exporter": "python",
   "pygments_lexer": "ipython2",
   "version": "2.7.9"
  }
 },
 "nbformat": 4,
 "nbformat_minor": 0
}
