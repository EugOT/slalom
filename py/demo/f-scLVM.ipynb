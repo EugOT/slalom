{
 "cells": [
  {
   "cell_type": "markdown",
   "metadata": {},
   "source": [
    "#f-scLVM"
   ]
  },
  {
   "cell_type": "markdown",
   "metadata": {},
   "source": [
    "In this notebook we illustrate how f-scLVM can be used to identify biological processes driving variability between cells."
   ]
  },
  {
   "cell_type": "markdown",
   "metadata": {},
   "source": [
    "First, we load some modules and set some directories"
   ]
  },
  {
   "cell_type": "code",
   "execution_count": 15,
   "metadata": {
    "collapsed": false
   },
   "outputs": [],
   "source": [
    "import sys\n",
    "import os\n",
    "import ast\n",
    "sys.path.append('./..')\n",
    "import scipy as SP\n",
    "import cPickle as pickle\n",
    "import core.fscLVM as fscLVM\n",
    "from core.utils import *\n",
    "import h5py\n",
    "\n",
    "\n",
    "data_dir = '../../data/'\n",
    "out_base = './results/'"
   ]
  },
  {
   "cell_type": "markdown",
   "metadata": {},
   "source": [
    "f-scLVM expects a hdf file containing the normalised, log transformed gene expression data as well as a set of annotations."
   ]
  },
  {
   "cell_type": "code",
   "execution_count": 16,
   "metadata": {
    "collapsed": true
   },
   "outputs": [],
   "source": [
    "dFile = 'Buettneretal.hdf5'\n",
    "#name of annotation\n",
    "anno = 'MSigDBdemo'\n",
    "#number of hidden (unannptated variables)\n",
    "nHidden = 3\n",
    "#indices of known covariates\n",
    "idx_known = []\n",
    "#number of iterations\n",
    "nIterations = 500\n",
    "\n",
    "idxCol=[0,1]\n",
    "#should the fast option be used (recommende). This only considers genes which are annotated to at least one process.\n",
    "doFast=True\n",
    "\n",
    "#specify out_dir\n",
    "if doFast==False:      \n",
    "    out_dir = os.path.join(out_base,  dFile.split('.')[0],anno)\n",
    "else:\n",
    "    out_dir = os.path.join(out_base,  dFile.split('.')[0],anno+'_fast')\n",
    "\n",
    "if not os.path.exists(out_dir):\n",
    "    os.makedirs(out_dir)"
   ]
  },
  {
   "cell_type": "markdown",
   "metadata": {},
   "source": [
    "Next we need to load the relevant data from the hdf5 file."
   ]
  },
  {
   "cell_type": "code",
   "execution_count": null,
   "metadata": {
    "collapsed": false
   },
   "outputs": [],
   "source": []
  },
  {
   "cell_type": "code",
   "execution_count": 17,
   "metadata": {
    "collapsed": false
   },
   "outputs": [
    {
     "name": "stdout",
     "output_type": "stream",
     "text": [
      "./results/Buettneretal/MSigDBdemo_fast/resHidden3_Known__0.hdf5\n"
     ]
    }
   ],
   "source": [
    "#min. numer of genes per process\n",
    "minGenes = 15\n",
    "dataFile = h5py.File(os.path.join(data_dir, dFile), 'r')\n",
    "\n",
    "terms = dataFile['terms'][:]#[50:]\n",
    "pi = dataFile['Pi'][:].T#[:,50:]\n",
    "\n",
    "Y = dataFile['Yhet'][:].T\n",
    "\n",
    "\n",
    "#exclude small terms\n",
    "terms = terms[SP.sum(pi>.5,0)>minGenes]\n",
    "pi = pi[:,SP.sum(pi>.5,0)>minGenes]\n",
    "\n",
    "\n",
    "#fast option?    \n",
    "if doFast==True:\n",
    "    idx_genes  = SP.logical_and(SP.sum(pi>.5,1)>0, Y.mean(0)>0.)#SP.any(pi>.5,1)\n",
    "    Y = Y[:,idx_genes]\n",
    "    pi = pi[idx_genes,:]    \n",
    "\n",
    "\n",
    "#center data\n",
    "Y-=SP.mean(Y,0)\n",
    "\n",
    "#include hidden variables\n",
    "terms = SP.hstack([SP.repeat('hidden',nHidden), terms])\n",
    "pi = SP.hstack([SP.ones((Y.shape[1],nHidden))*.99,pi])\n",
    "\n",
    "\n",
    "#include known covariates\n",
    "init_factors = {}\n",
    "if len(idx_known)>0:\n",
    "    known_names = dataFile['known_names'][:][idx_known]\n",
    "    if len(dataFile['Known'][:].shape)>1:\n",
    "        known = dataFile['Known'][:].T[:,idx_known]\n",
    "    else:\n",
    "        known = dataFile['Known'][:][:,SP.newaxis]\n",
    "    known -= known.mean(0)\n",
    "    known /= known.std(0)\n",
    "    terms = SP.hstack([ known_names,terms])\n",
    "    pi = SP.hstack([SP.ones((Y.shape[1],len(idx_known)))*.5,pi])\n",
    "    init_factors['Known'] = known             \n",
    "else:\n",
    "    known_names = '0'\n",
    "\n",
    "\n",
    "#specify out_file\n",
    "out_file = 'resHidden'+str(nHidden)+'_Known__'+'__'.join(known_names)+'.hdf5'\n",
    "out_name = os.path.join(out_dir, out_file)\n",
    "print out_name  \n",
    "\n",
    "terms0=terms.copy()\n",
    "pi0=pi.copy()\n",
    "\n",
    "\n"
   ]
  },
  {
   "cell_type": "markdown",
   "metadata": {},
   "source": [
    "Next, we initialise the model and iterate.\n"
   ]
  },
  {
   "cell_type": "code",
   "execution_count": 18,
   "metadata": {
    "collapsed": false
   },
   "outputs": [
    {
     "name": "stdout",
     "output_type": "stream",
     "text": [
      "['hidden' 'hidden' 'hidden' 'G2M_CHECKPOINT' 'P53_PATHWAY'\n",
      " 'UNFOLDED_PROTEIN_RESPONSE' 'EPITHELIAL_MESENCHYMAL_TRANSITION'\n",
      " 'PROTEIN_SECRETION' 'TNFA_SIGNALING_VIA_NFKB' 'MITOTIC_SPINDLE'\n",
      " 'MYOGENESIS' 'ADIPOGENESIS' 'KRAS_SIGNALING_UP' 'IL2_STAT5_SIGNALING'\n",
      " 'OXIDATIVE_PHOSPHORYLATION' 'MTORC1_SIGNALING' 'MYC_TARGETS_V2'\n",
      " 'UV_RESPONSE_UP' 'APICAL_SURFACE' 'TGF_BETA_SIGNALING'\n",
      " 'CHOLESTEROL_HOMEOSTASIS' 'COAGULATION' 'HYPOXIA' 'PEROXISOME'\n",
      " 'PI3K_AKT_MTOR_SIGNALING' 'MYC_TARGETS_V1' 'UV_RESPONSE_DN'\n",
      " 'APICAL_JUNCTION' 'DNA_REPAIR' 'ANDROGEN_RESPONSE'\n",
      " 'IL6_JAK_STAT3_SIGNALING' 'BILE_ACID_METABOLISM' 'SPERMATOGENESIS'\n",
      " 'FATTY_ACID_METABOLISM' 'INTERFERON_ALPHA_RESPONSE' 'E2F_TARGETS'\n",
      " 'APOPTOSIS' 'COMPLEMENT' 'XENOBIOTIC_METABOLISM' 'ALLOGRAFT_REJECTION'\n",
      " 'HEME_METABOLISM' 'GLYCOLYSIS' 'INFLAMMATORY_RESPONSE' 'KRAS_SIGNALING_DN'\n",
      " 'ESTROGEN_RESPONSE_LATE' 'INTERFERON_GAMMA_RESPONSE'\n",
      " 'ESTROGEN_RESPONSE_EARLY']\n",
      "reconstruction error: 1.465074\n",
      "reconstruction error: 0.556741\n",
      "reconstruction error: 0.556680\n",
      "reconstruction error: 0.556586\n",
      "reconstruction error: 0.556582\n"
     ]
    },
    {
     "data": {
      "text/plain": [
       "0.55658169050866269"
      ]
     },
     "execution_count": 18,
     "metadata": {},
     "output_type": "execute_result"
    }
   ],
   "source": [
    "init_factors['iLatent'] = SP.where(terms=='hidden')[0]\n",
    "\n",
    "#use pre-training to determine initial update order \n",
    "Ilabel = getIlabel('preTrain',Y, terms, pi,init_factors) \n",
    "\n",
    "#re-order terms\n",
    "print \"Initial order\", terms0[Ilabel]\n",
    "terms = terms0[Ilabel]\n",
    "pi = pi0[:,Ilabel]\n",
    "\n",
    "#Set FNR\n",
    "pi[pi<.1] =1e-3\n",
    "\n",
    "#initialise model\n",
    "init={'init_data':sparseFA.CGauss(Y),'Pi':pi,'init_factors':init_factors}\n",
    "priors = {'Eps': {'priors':[1E-3,1E-3]}}\n",
    "FA = fscLVM.CSparseFA(components=pi.shape[1], nIterations=nIterations, verbose=True)            \n",
    "FA.init(**init) \n",
    "\n",
    "#iterate\n",
    "FA.iterate(forceIterations=True)"
   ]
  },
  {
   "cell_type": "markdown",
   "metadata": {},
   "source": [
    "We then post-process the result to exclude factors capturing outliers."
   ]
  },
  {
   "cell_type": "code",
   "execution_count": 7,
   "metadata": {
    "collapsed": false
   },
   "outputs": [
    {
     "name": "stdout",
     "output_type": "stream",
     "text": [
      "['G2M_CHECKPOINT' 'P53_PATHWAY' 'hidden' 'hidden' 'hidden' 'DNA_REPAIR'\n",
      " 'ANDROGEN_RESPONSE' 'PI3K_AKT_MTOR_SIGNALING' 'SPERMATOGENESIS'\n",
      " 'FATTY_ACID_METABOLISM' 'INTERFERON_ALPHA_RESPONSE'\n",
      " 'INFLAMMATORY_RESPONSE' 'APOPTOSIS' 'ALLOGRAFT_REJECTION' 'COAGULATION'\n",
      " 'IL6_JAK_STAT3_SIGNALING' 'HEME_METABOLISM' 'UV_RESPONSE_DN'\n",
      " 'KRAS_SIGNALING_DN' 'APICAL_JUNCTION' 'HYPOXIA' 'ESTROGEN_RESPONSE_LATE'\n",
      " 'INTERFERON_GAMMA_RESPONSE' 'GLYCOLYSIS' 'E2F_TARGETS' 'COMPLEMENT'\n",
      " 'IL2_STAT5_SIGNALING' 'UNFOLDED_PROTEIN_RESPONSE'\n",
      " 'EPITHELIAL_MESENCHYMAL_TRANSITION' 'PROTEIN_SECRETION'\n",
      " 'OXIDATIVE_PHOSPHORYLATION' 'TNFA_SIGNALING_VIA_NFKB' 'MITOTIC_SPINDLE'\n",
      " 'ADIPOGENESIS' 'MYOGENESIS' 'MYC_TARGETS_V1' 'KRAS_SIGNALING_UP'\n",
      " 'PEROXISOME' 'BILE_ACID_METABOLISM' 'MYC_TARGETS_V2' 'UV_RESPONSE_UP'\n",
      " 'APICAL_SURFACE' 'XENOBIOTIC_METABOLISM' 'TGF_BETA_SIGNALING'\n",
      " 'CHOLESTEROL_HOMEOSTASIS' 'MTORC1_SIGNALING' 'ESTROGEN_RESPONSE_EARLY']\n",
      "[ 0.03890139  0.03420772  0.01225376  0.00636797  0.          0.          0.\n",
      "  0.          0.          0.          0.          0.          0.          0.\n",
      "  0.          0.          0.          0.          0.          0.          0.\n",
      "  0.          0.          0.          0.          0.          0.          0.\n",
      "  0.          0.          0.          0.          0.          0.          0.\n",
      "  0.          0.          0.          0.          0.          0.          0.\n",
      "  0.          0.          0.          0.          0.        ]\n"
     ]
    }
   ],
   "source": [
    "MAD = mad(FA.S.E1)\n",
    "alpha = (MAD>.5)*(1/(FA.Alpha.E1))\n",
    "idxF = SP.argsort(-alpha)\n",
    "\n",
    "print terms[idxF]\n",
    "print alpha[idxF]\n",
    "\n",
    "#scatter plot of two most important factors\n",
    "plotFac(FA,idxF[0],idxF[1], terms=terms)"
   ]
  },
  {
   "cell_type": "code",
   "execution_count": 8,
   "metadata": {
    "collapsed": true
   },
   "outputs": [],
   "source": [
    "#save results\n",
    "out_file = h5py.File(out_name+'.hdf5','w')    \n",
    "out_file['alphaRaw'] = FA.Alpha.E1\n",
    "out_file['alpha'] = alpha  \n",
    "out_file['MAD'] = MAD  \n",
    "out_file['W'] = FA.W.E1\n",
    "out_file['Eps'] = FA.Eps.E1\n",
    "out_file['S'] = FA.S.E1        \n",
    "out_file['Gamma'] = FA.W.C[:,:,0]\n",
    "out_file['pi'] = pi\n",
    "out_file['terms'] = terms\n",
    "out_file.close()\n",
    "pickle.dump(FA, open(out_name+'_FA.pickle', 'w'))"
   ]
  }
 ],
 "metadata": {
  "kernelspec": {
   "display_name": "Python 2",
   "language": "python",
   "name": "python2"
  },
  "language_info": {
   "codemirror_mode": {
    "name": "ipython",
    "version": 2
   },
   "file_extension": ".py",
   "mimetype": "text/x-python",
   "name": "python",
   "nbconvert_exporter": "python",
   "pygments_lexer": "ipython2",
   "version": "2.7.9"
  }
 },
 "nbformat": 4,
 "nbformat_minor": 0
}
