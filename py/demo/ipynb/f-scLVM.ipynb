{
 "cells": [
  {
   "cell_type": "markdown",
   "metadata": {},
   "source": [
    "# f-scLVM"
   ]
  },
  {
   "cell_type": "markdown",
   "metadata": {},
   "source": [
    "In this notebook we illustrate how f-scLVM can be used to identify biological processes driving variability between cells. "
   ]
  },
  {
   "cell_type": "markdown",
   "metadata": {},
   "source": [
    "First, we load some modules and set some directories"
   ]
  },
  {
   "cell_type": "code",
   "execution_count": 3,
   "metadata": {
    "collapsed": false
   },
   "outputs": [
    {
     "name": "stderr",
     "output_type": "stream",
     "text": [
      "/usr/local/lib/python2.7/site-packages/matplotlib/font_manager.py:273: UserWarning: Matplotlib is building the font cache using fc-list. This may take a moment.\n",
      "  warnings.warn('Matplotlib is building the font cache using fc-list. This may take a moment.')\n"
     ]
    },
    {
     "name": "stdout",
     "output_type": "stream",
     "text": [
      "Populating the interactive namespace from numpy and matplotlib\n"
     ]
    }
   ],
   "source": [
    "import sys\n",
    "sys.path.append('./../..')\n",
    "import os\n",
    "import scipy as SP\n",
    "import cPickle as pickle\n",
    "import core.utils as utils\n",
    "import core.fscLVM as fscLVM\n",
    "\n",
    "import h5py\n",
    "%pylab inline\n",
    "\n",
    "data_dir = '../../../data/'\n",
    "out_base = './../results/'"
   ]
  },
  {
   "cell_type": "markdown",
   "metadata": {},
   "source": [
    "f-scLVM expects a hdf file containing the normalised, log transformed gene expression data as well as a set of annotations."
   ]
  },
  {
   "cell_type": "code",
   "execution_count": 4,
   "metadata": {
    "collapsed": false
   },
   "outputs": [],
   "source": [
    "dFile = 'Buettneretal.hdf5'\n",
    "#name of annotation\n",
    "anno = 'MSigDBdemo'\n",
    "\n",
    "#number of hidden (unannotated variables)\n",
    "nHidden = 3\n",
    "#indices of known covariates\n",
    "idx_known = []\n",
    "#number of iterations\n",
    "nIterations = 800\n",
    "\n",
    "idxCol=[0,1]\n",
    "#should the fast option be used (recommende). This only considers genes which are annotated to at least one process.\n",
    "doFast=True\n",
    "\n",
    "#specify out_dir\n",
    "if doFast==False:      \n",
    "    out_dir = os.path.join(out_base,  dFile.split('.')[0],anno)\n",
    "else:\n",
    "    out_dir = os.path.join(out_base,  dFile.split('.')[0],anno+'_fast')\n",
    "\n",
    "if not os.path.exists(out_dir):\n",
    "    os.makedirs(out_dir)"
   ]
  },
  {
   "cell_type": "markdown",
   "metadata": {},
   "source": [
    "Next we need to load the relevant data from the hdf5 file."
   ]
  },
  {
   "cell_type": "code",
   "execution_count": null,
   "metadata": {
    "collapsed": true
   },
   "outputs": [],
   "source": []
  },
  {
   "cell_type": "code",
   "execution_count": 5,
   "metadata": {
    "collapsed": false
   },
   "outputs": [],
   "source": [
    "#min. numer of genes per process\n",
    "minGenes = 15\n",
    "dataFile = h5py.File(os.path.join(data_dir, dFile), 'r')\n",
    "\n",
    "terms = dataFile['terms'][:]#[50:]\n",
    "pi = dataFile['Pi'][:].T#[:,50:]\n",
    "\n",
    "Y = dataFile['Yhet'][:].T\n",
    "\n",
    "\n",
    "#exclude small terms\n",
    "terms = terms[SP.sum(pi>.5,0)>minGenes]\n",
    "pi = pi[:,SP.sum(pi>.5,0)>minGenes]\n",
    "\n",
    "\n",
    "#fast option?    \n",
    "if doFast==True:\n",
    "    idx_genes  = SP.logical_and(SP.sum(pi>.5,1)>0, Y.mean(0)>0.)#SP.any(pi>.5,1)\n",
    "    Y = Y[:,idx_genes]\n",
    "    pi = pi[idx_genes,:]    \n",
    "\n",
    "\n",
    "#center data\n",
    "Y-=SP.mean(Y,0)\n",
    "\n",
    "#include hidden variables\n",
    "terms = SP.hstack([SP.repeat('hidden',nHidden), terms])\n",
    "pi = SP.hstack([SP.ones((Y.shape[1],nHidden))*.99,pi])\n",
    "\n",
    "\n",
    "#include known covariates\n",
    "init_factors = {}\n",
    "if len(idx_known)>0:\n",
    "    known_names = dataFile['known_names'][:][idx_known]\n",
    "    if len(dataFile['Known'][:].shape)>1:\n",
    "        known = dataFile['Known'][:].T[:,idx_known]\n",
    "    else:\n",
    "        known = dataFile['Known'][:][:,SP.newaxis]\n",
    "    known -= known.mean(0)\n",
    "    known /= known.std(0)\n",
    "    terms = SP.hstack([ known_names,terms])\n",
    "    pi = SP.hstack([SP.ones((Y.shape[1],len(idx_known)))*.5,pi])\n",
    "    init_factors['Known'] = known             \n",
    "else:\n",
    "    known_names = '0'\n",
    "\n",
    "\n",
    "terms0=terms.copy()\n",
    "pi0=pi.copy()"
   ]
  },
  {
   "cell_type": "markdown",
   "metadata": {},
   "source": [
    "Next, we initialise the model and iterate.\n"
   ]
  },
  {
   "cell_type": "code",
   "execution_count": 6,
   "metadata": {
    "collapsed": false
   },
   "outputs": [
    {
     "name": "stdout",
     "output_type": "stream",
     "text": [
      "Initial order ['hidden' 'hidden' 'hidden' 'G2M_CHECKPOINT' 'P53_PATHWAY'\n",
      " 'UNFOLDED_PROTEIN_RESPONSE' 'EPITHELIAL_MESENCHYMAL_TRANSITION'\n",
      " 'PROTEIN_SECRETION' 'UV_RESPONSE_UP' 'TNFA_SIGNALING_VIA_NFKB'\n",
      " 'ADIPOGENESIS' 'IL2_STAT5_SIGNALING' 'MYOGENESIS' 'KRAS_SIGNALING_UP'\n",
      " 'OXIDATIVE_PHOSPHORYLATION' 'MYC_TARGETS_V2' 'APICAL_SURFACE'\n",
      " 'TGF_BETA_SIGNALING' 'XENOBIOTIC_METABOLISM' 'MTORC1_SIGNALING'\n",
      " 'CHOLESTEROL_HOMEOSTASIS' 'PEROXISOME' 'MITOTIC_SPINDLE' 'MYC_TARGETS_V1'\n",
      " 'ANDROGEN_RESPONSE' 'DNA_REPAIR' 'IL6_JAK_STAT3_SIGNALING'\n",
      " 'PI3K_AKT_MTOR_SIGNALING' 'BILE_ACID_METABOLISM' 'SPERMATOGENESIS'\n",
      " 'FATTY_ACID_METABOLISM' 'INTERFERON_ALPHA_RESPONSE' 'E2F_TARGETS'\n",
      " 'APOPTOSIS' 'COMPLEMENT' 'ALLOGRAFT_REJECTION' 'COAGULATION'\n",
      " 'HEME_METABOLISM' 'UV_RESPONSE_DN' 'GLYCOLYSIS' 'INFLAMMATORY_RESPONSE'\n",
      " 'APICAL_JUNCTION' 'KRAS_SIGNALING_DN' 'HYPOXIA' 'ESTROGEN_RESPONSE_LATE'\n",
      " 'INTERFERON_GAMMA_RESPONSE' 'ESTROGEN_RESPONSE_EARLY']\n",
      "reconstruction error: 0.796483 \n",
      "reconstruction error: 1.463068\n",
      "reconstruction error: 0.561552\n",
      "reconstruction error: 0.561315\n",
      "reconstruction error: 0.561103\n",
      "reconstruction error: 0.561075\n",
      "reconstruction error: 0.561072\n",
      "reconstruction error: 0.561072\n",
      "reconstruction error: 0.561072\n"
     ]
    },
    {
     "data": {
      "text/plain": [
       "0"
      ]
     },
     "execution_count": 6,
     "metadata": {},
     "output_type": "execute_result"
    }
   ],
   "source": [
    "init_factors['iLatent'] = SP.where(terms=='hidden')[0]\n",
    "\n",
    "#use pre-training to determine initial update order \n",
    "Ilabel = utils.getIlabel('preTrain',Y, terms, pi,init_factors) \n",
    "\n",
    "#re-order terms\n",
    "print \"Initial order\", terms0[Ilabel]\n",
    "terms = terms0[Ilabel]\n",
    "pi = pi0[:,Ilabel]\n",
    "\n",
    "#Set FNR\n",
    "pi[pi<.1] =1e-3\n",
    "\n",
    "#initialise model\n",
    "init={'init_data':fscLVM.CGauss(Y),'Pi':pi,'init_factors':init_factors}\n",
    "priors = {'Eps': {'priors':[1E-3,1E-3]}}\n",
    "FA = fscLVM.CSparseFA(components=pi.shape[1], nIterations=nIterations, priors=priors,verbose=True)            \n",
    "FA.init(**init) \n",
    "\n",
    "#iterate\n",
    "FA.iterate(forceIterations=True)"
   ]
  },
  {
   "cell_type": "markdown",
   "metadata": {},
   "source": [
    "We then post-process the result to exclude factors capturing outliers."
   ]
  },
  {
   "cell_type": "code",
   "execution_count": 13,
   "metadata": {
    "collapsed": false
   },
   "outputs": [
    {
     "name": "stderr",
     "output_type": "stream",
     "text": [
      "/usr/local/lib/python2.7/site-packages/matplotlib/__init__.py:1350: UserWarning:  This call to matplotlib.use() has no effect\n",
      "because the backend has already been chosen;\n",
      "matplotlib.use() must be called *before* pylab, matplotlib.pyplot,\n",
      "or matplotlib.backends is imported for the first time.\n",
      "\n",
      "  warnings.warn(_use_error_msg)\n"
     ]
    },
    {
     "data": {
      "text/plain": [
       "<module 'core.utils' from './../../core/utils.py'>"
      ]
     },
     "execution_count": 13,
     "metadata": {},
     "output_type": "execute_result"
    }
   ],
   "source": [
    "\n",
    "reload(utils)"
   ]
  },
  {
   "cell_type": "code",
   "execution_count": 15,
   "metadata": {
    "collapsed": false
   },
   "outputs": [
    {
     "name": "stdout",
     "output_type": "stream",
     "text": [
      "<core.fscLVM.CSparseFA object at 0x10695f4d0>\n"
     ]
    },
    {
     "data": {
      "image/png": "[encoded data removed]",
      "text/plain": [
       "<matplotlib.figure.Figure at 0x10c9a4610>"
      ]
     },
     "metadata": {},
     "output_type": "display_data"
    },
    {
     "name": "stderr",
     "output_type": "stream",
     "text": [
      "./../../core/utils.py:98: FutureWarning: comparison to `None` will result in an elementwise object comparison in the future.\n",
      "  assert terms!=None\n"
     ]
    },
    {
     "data": {
      "image/png": "[encoded data removed]",
      "text/plain": [
       "<matplotlib.figure.Figure at 0x10a6bdd10>"
      ]
     },
     "metadata": {},
     "output_type": "display_data"
    }
   ],
   "source": [
    "#scatter plot of two most important factors\n",
    "utils.plotFactors(0,1,FA,lab = dataFile['Known'][:][0,:]+2*dataFile['Known'][:][1,:], terms=terms, isCont=False)\n",
    "utils.plotTerms(FA, terms=terms)"
   ]
  },
  {
   "cell_type": "code",
   "execution_count": 20,
   "metadata": {
    "collapsed": true
   },
   "outputs": [],
   "source": [
    "#specify out_file\n",
    "utils.saveFA(FA)"
   ]
  },
  {
   "cell_type": "code",
   "execution_count": null,
   "metadata": {
    "collapsed": false
   },
   "outputs": [],
   "source": []
  },
  {
   "cell_type": "code",
   "execution_count": null,
   "metadata": {
    "collapsed": true
   },
   "outputs": [],
   "source": []
  },
  {
   "cell_type": "code",
   "execution_count": null,
   "metadata": {
    "collapsed": true
   },
   "outputs": [],
   "source": []
  }
 ],
 "metadata": {
  "kernelspec": {
   "display_name": "Python 2",
   "language": "python",
   "name": "python2"
  },
  "language_info": {
   "codemirror_mode": {
    "name": "ipython",
    "version": 2
   },
   "file_extension": ".py",
   "mimetype": "text/x-python",
   "name": "python",
   "nbconvert_exporter": "python",
   "pygments_lexer": "ipython2",
   "version": "2.7.9"
  }
 },
 "nbformat": 4,
 "nbformat_minor": 0
}
