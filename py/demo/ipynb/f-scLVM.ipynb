{
 "cells": [
  {
   "cell_type": "markdown",
   "metadata": {},
   "source": [
    "# f-scLVM"
   ]
  },
  {
   "cell_type": "markdown",
   "metadata": {},
   "source": [
    "In this notebook we illustrate how f-scLVM can be used to identify biological processes driving variability between cells. "
   ]
  },
  {
   "cell_type": "markdown",
   "metadata": {},
   "source": [
    "First, we load some modules and set some directories"
   ]
  },
  {
   "cell_type": "code",
   "execution_count": 3,
   "metadata": {
    "collapsed": false
   },
   "outputs": [
    {
     "name": "stdout",
     "output_type": "stream",
     "text": [
      "Populating the interactive namespace from numpy and matplotlib\n"
     ]
    },
    {
     "name": "stderr",
     "output_type": "stream",
     "text": [
      "WARNING: pylab import has clobbered these variables: ['plt']\n",
      "`%matplotlib` prevents importing * from pylab and numpy\n"
     ]
    }
   ],
   "source": [
    "import sys\n",
    "import os\n",
    "import scipy as SP\n",
    "sys.path.insert(0,'/Users/flo/projects/Auto_Bionf/scLVM2/py')\n",
    "import cPickle as pickle\n",
    "from fscLVMl.utils import *\n",
    "import fscLVMl.core as fscLVM\n",
    "import h5py\n",
    "%load_ext rpy2.ipython\n",
    "%pylab inline\n",
    "\n",
    "#specify where the hdf5 file is\n",
    "data_dir = '../../../data/'\n",
    "out_base = './../results/'\n",
    "\n"
   ]
  },
  {
   "cell_type": "code",
   "execution_count": null,
   "metadata": {
    "collapsed": false
   },
   "outputs": [],
   "source": []
  },
  {
   "cell_type": "markdown",
   "metadata": {},
   "source": [
    "f-scLVM expects a hdf file containing the normalised, log transformed gene expression data as well as a set of annotations. We provide an R script (in the R folder) which can be used to generate this input from a gene expression matrix, using annotation from REACTOME, MSigDB and Wikipathways. \n",
    "\n",
    "Usage is also illustrated in the next R cell; it can be skipped and provided hdf file can be used instead.\n",
    "\n",
    "\n",
    "\n"
   ]
  },
  {
   "cell_type": "markdown",
   "metadata": {},
   "source": [
    "# Generating an input file using R "
   ]
  },
  {
   "cell_type": "code",
   "execution_count": 3,
   "metadata": {
    "collapsed": false
   },
   "outputs": [
    {
     "name": "stderr",
     "output_type": "stream",
     "text": [
      "/usr/local/lib/python2.7/site-packages/rpy2-2.8.0.dev0-py2.7-macosx-10.10-x86_64.egg/rpy2/robjects/functions.py:106: UserWarning: \n",
      "Attache Paket: ‘gplots’\n",
      "\n",
      "\n",
      "  res = super(Function, self).__call__(*new_args, **new_kwargs)\n",
      "/usr/local/lib/python2.7/site-packages/rpy2-2.8.0.dev0-py2.7-macosx-10.10-x86_64.egg/rpy2/robjects/functions.py:106: UserWarning: Das folgende Objekt ist maskiert ‘package:stats’:\n",
      "\n",
      "    lowess\n",
      "\n",
      "\n",
      "  res = super(Function, self).__call__(*new_args, **new_kwargs)\n",
      "/usr/local/lib/python2.7/site-packages/rpy2-2.8.0.dev0-py2.7-macosx-10.10-x86_64.egg/rpy2/robjects/functions.py:106: UserWarning: Lade nötiges Paket: GSEABase\n",
      "\n",
      "  res = super(Function, self).__call__(*new_args, **new_kwargs)\n",
      "/usr/local/lib/python2.7/site-packages/rpy2-2.8.0.dev0-py2.7-macosx-10.10-x86_64.egg/rpy2/robjects/functions.py:106: UserWarning: Lade nötiges Paket: BiocGenerics\n",
      "\n",
      "  res = super(Function, self).__call__(*new_args, **new_kwargs)\n",
      "/usr/local/lib/python2.7/site-packages/rpy2-2.8.0.dev0-py2.7-macosx-10.10-x86_64.egg/rpy2/robjects/functions.py:106: UserWarning: Lade nötiges Paket: parallel\n",
      "\n",
      "  res = super(Function, self).__call__(*new_args, **new_kwargs)\n",
      "/usr/local/lib/python2.7/site-packages/rpy2-2.8.0.dev0-py2.7-macosx-10.10-x86_64.egg/rpy2/robjects/functions.py:106: UserWarning: \n",
      "Attache Paket: ‘BiocGenerics’\n",
      "\n",
      "\n",
      "  res = super(Function, self).__call__(*new_args, **new_kwargs)\n",
      "/usr/local/lib/python2.7/site-packages/rpy2-2.8.0.dev0-py2.7-macosx-10.10-x86_64.egg/rpy2/robjects/functions.py:106: UserWarning: Die folgenden Objekte sind maskiert von ‘package:parallel’:\n",
      "\n",
      "    clusterApply, clusterApplyLB, clusterCall, clusterEvalQ,\n",
      "    clusterExport, clusterMap, parApply, parCapply, parLapply,\n",
      "    parLapplyLB, parRapply, parSapply, parSapplyLB\n",
      "\n",
      "\n",
      "  res = super(Function, self).__call__(*new_args, **new_kwargs)\n",
      "/usr/local/lib/python2.7/site-packages/rpy2-2.8.0.dev0-py2.7-macosx-10.10-x86_64.egg/rpy2/robjects/functions.py:106: UserWarning: Die folgenden Objekte sind maskiert von ‘package:stats’:\n",
      "\n",
      "    IQR, mad, xtabs\n",
      "\n",
      "\n",
      "  res = super(Function, self).__call__(*new_args, **new_kwargs)\n",
      "/usr/local/lib/python2.7/site-packages/rpy2-2.8.0.dev0-py2.7-macosx-10.10-x86_64.egg/rpy2/robjects/functions.py:106: UserWarning: Die folgenden Objekte sind maskiert von ‘package:base’:\n",
      "\n",
      "    anyDuplicated, append, as.data.frame, as.vector, cbind, colnames,\n",
      "    do.call, duplicated, eval, evalq, Filter, Find, get, grep, grepl,\n",
      "    intersect, is.unsorted, lapply, lengths, Map, mapply, match, mget,\n",
      "    order, paste, pmax, pmax.int, pmin, pmin.int, Position, rank,\n",
      "    rbind, Reduce, rownames, sapply, setdiff, sort, table, tapply,\n",
      "    union, unique, unlist, unsplit\n",
      "\n",
      "\n",
      "  res = super(Function, self).__call__(*new_args, **new_kwargs)\n",
      "/usr/local/lib/python2.7/site-packages/rpy2-2.8.0.dev0-py2.7-macosx-10.10-x86_64.egg/rpy2/robjects/functions.py:106: UserWarning: Lade nötiges Paket: Biobase\n",
      "\n",
      "  res = super(Function, self).__call__(*new_args, **new_kwargs)\n",
      "/usr/local/lib/python2.7/site-packages/rpy2-2.8.0.dev0-py2.7-macosx-10.10-x86_64.egg/rpy2/robjects/functions.py:106: UserWarning: Welcome to Bioconductor\n",
      "\n",
      "    Vignettes contain introductory material; view with\n",
      "    'browseVignettes()'. To cite Bioconductor, see\n",
      "    'citation(\"Biobase\")', and for packages 'citation(\"pkgname\")'.\n",
      "\n",
      "\n",
      "  res = super(Function, self).__call__(*new_args, **new_kwargs)\n",
      "/usr/local/lib/python2.7/site-packages/rpy2-2.8.0.dev0-py2.7-macosx-10.10-x86_64.egg/rpy2/robjects/functions.py:106: UserWarning: Lade nötiges Paket: annotate\n",
      "\n",
      "  res = super(Function, self).__call__(*new_args, **new_kwargs)\n",
      "/usr/local/lib/python2.7/site-packages/rpy2-2.8.0.dev0-py2.7-macosx-10.10-x86_64.egg/rpy2/robjects/functions.py:106: UserWarning: Lade nötiges Paket: AnnotationDbi\n",
      "\n",
      "  res = super(Function, self).__call__(*new_args, **new_kwargs)\n",
      "/usr/local/lib/python2.7/site-packages/rpy2-2.8.0.dev0-py2.7-macosx-10.10-x86_64.egg/rpy2/robjects/functions.py:106: UserWarning: Lade nötiges Paket: stats4\n",
      "\n",
      "  res = super(Function, self).__call__(*new_args, **new_kwargs)\n",
      "/usr/local/lib/python2.7/site-packages/rpy2-2.8.0.dev0-py2.7-macosx-10.10-x86_64.egg/rpy2/robjects/functions.py:106: UserWarning: Lade nötiges Paket: IRanges\n",
      "\n",
      "  res = super(Function, self).__call__(*new_args, **new_kwargs)\n",
      "/usr/local/lib/python2.7/site-packages/rpy2-2.8.0.dev0-py2.7-macosx-10.10-x86_64.egg/rpy2/robjects/functions.py:106: UserWarning: Lade nötiges Paket: S4Vectors\n",
      "\n",
      "  res = super(Function, self).__call__(*new_args, **new_kwargs)\n",
      "/usr/local/lib/python2.7/site-packages/rpy2-2.8.0.dev0-py2.7-macosx-10.10-x86_64.egg/rpy2/robjects/functions.py:106: UserWarning: \n",
      "Attache Paket: ‘IRanges’\n",
      "\n",
      "\n",
      "  res = super(Function, self).__call__(*new_args, **new_kwargs)\n",
      "/usr/local/lib/python2.7/site-packages/rpy2-2.8.0.dev0-py2.7-macosx-10.10-x86_64.egg/rpy2/robjects/functions.py:106: UserWarning: Das folgende Objekt ist maskiert ‘package:gplots’:\n",
      "\n",
      "    space\n",
      "\n",
      "\n",
      "  res = super(Function, self).__call__(*new_args, **new_kwargs)\n",
      "/usr/local/lib/python2.7/site-packages/rpy2-2.8.0.dev0-py2.7-macosx-10.10-x86_64.egg/rpy2/robjects/functions.py:106: UserWarning: Lade nötiges Paket: XML\n",
      "\n",
      "  res = super(Function, self).__call__(*new_args, **new_kwargs)\n",
      "/usr/local/lib/python2.7/site-packages/rpy2-2.8.0.dev0-py2.7-macosx-10.10-x86_64.egg/rpy2/robjects/functions.py:106: UserWarning: \n",
      "Attache Paket: ‘XML’\n",
      "\n",
      "\n",
      "  res = super(Function, self).__call__(*new_args, **new_kwargs)\n",
      "/usr/local/lib/python2.7/site-packages/rpy2-2.8.0.dev0-py2.7-macosx-10.10-x86_64.egg/rpy2/robjects/functions.py:106: UserWarning: Das folgende Objekt ist maskiert ‘package:tools’:\n",
      "\n",
      "    toHTML\n",
      "\n",
      "\n",
      "  res = super(Function, self).__call__(*new_args, **new_kwargs)\n",
      "/usr/local/lib/python2.7/site-packages/rpy2-2.8.0.dev0-py2.7-macosx-10.10-x86_64.egg/rpy2/robjects/functions.py:106: UserWarning: Lade nötiges Paket: graph\n",
      "\n",
      "  res = super(Function, self).__call__(*new_args, **new_kwargs)\n",
      "/usr/local/lib/python2.7/site-packages/rpy2-2.8.0.dev0-py2.7-macosx-10.10-x86_64.egg/rpy2/robjects/functions.py:106: UserWarning: \n",
      "Attache Paket: ‘graph’\n",
      "\n",
      "\n",
      "  res = super(Function, self).__call__(*new_args, **new_kwargs)\n",
      "/usr/local/lib/python2.7/site-packages/rpy2-2.8.0.dev0-py2.7-macosx-10.10-x86_64.egg/rpy2/robjects/functions.py:106: UserWarning: Das folgende Objekt ist maskiert ‘package:XML’:\n",
      "\n",
      "    addNode\n",
      "\n",
      "\n",
      "  res = super(Function, self).__call__(*new_args, **new_kwargs)\n",
      "/usr/local/lib/python2.7/site-packages/rpy2-2.8.0.dev0-py2.7-macosx-10.10-x86_64.egg/rpy2/robjects/functions.py:106: UserWarning: Lade nötiges Paket: limma\n",
      "\n",
      "  res = super(Function, self).__call__(*new_args, **new_kwargs)\n",
      "/usr/local/lib/python2.7/site-packages/rpy2-2.8.0.dev0-py2.7-macosx-10.10-x86_64.egg/rpy2/robjects/functions.py:106: UserWarning: \n",
      "Attache Paket: ‘limma’\n",
      "\n",
      "\n",
      "  res = super(Function, self).__call__(*new_args, **new_kwargs)\n",
      "/usr/local/lib/python2.7/site-packages/rpy2-2.8.0.dev0-py2.7-macosx-10.10-x86_64.egg/rpy2/robjects/functions.py:106: UserWarning: Das folgende Objekt ist maskiert ‘package:BiocGenerics’:\n",
      "\n",
      "    plotMA\n",
      "\n",
      "\n",
      "  res = super(Function, self).__call__(*new_args, **new_kwargs)\n",
      "/usr/local/lib/python2.7/site-packages/rpy2-2.8.0.dev0-py2.7-macosx-10.10-x86_64.egg/rpy2/robjects/functions.py:106: UserWarning: Lade nötiges Paket: org.Hs.eg.db\n",
      "\n",
      "  res = super(Function, self).__call__(*new_args, **new_kwargs)\n",
      "/usr/local/lib/python2.7/site-packages/rpy2-2.8.0.dev0-py2.7-macosx-10.10-x86_64.egg/rpy2/robjects/functions.py:106: UserWarning: Lade nötiges Paket: DBI\n",
      "\n",
      "  res = super(Function, self).__call__(*new_args, **new_kwargs)\n",
      "/usr/local/lib/python2.7/site-packages/rpy2-2.8.0.dev0-py2.7-macosx-10.10-x86_64.egg/rpy2/robjects/functions.py:106: UserWarning: \n",
      "\n",
      "  res = super(Function, self).__call__(*new_args, **new_kwargs)\n",
      "/usr/local/lib/python2.7/site-packages/rpy2-2.8.0.dev0-py2.7-macosx-10.10-x86_64.egg/rpy2/robjects/functions.py:106: UserWarning: Read 202 items\n",
      "\n",
      "  res = super(Function, self).__call__(*new_args, **new_kwargs)\n",
      "/usr/local/lib/python2.7/site-packages/rpy2-2.8.0.dev0-py2.7-macosx-10.10-x86_64.egg/rpy2/robjects/functions.py:106: UserWarning: Read 76 items\n",
      "\n",
      "  res = super(Function, self).__call__(*new_args, **new_kwargs)\n",
      "/usr/local/lib/python2.7/site-packages/rpy2-2.8.0.dev0-py2.7-macosx-10.10-x86_64.egg/rpy2/robjects/functions.py:106: UserWarning: Read 44 items\n",
      "\n",
      "  res = super(Function, self).__call__(*new_args, **new_kwargs)\n",
      "/usr/local/lib/python2.7/site-packages/rpy2-2.8.0.dev0-py2.7-macosx-10.10-x86_64.egg/rpy2/robjects/functions.py:106: UserWarning: Read 56 items\n",
      "\n",
      "  res = super(Function, self).__call__(*new_args, **new_kwargs)\n",
      "/usr/local/lib/python2.7/site-packages/rpy2-2.8.0.dev0-py2.7-macosx-10.10-x86_64.egg/rpy2/robjects/functions.py:106: UserWarning: Read 89 items\n",
      "\n",
      "  res = super(Function, self).__call__(*new_args, **new_kwargs)\n",
      "/usr/local/lib/python2.7/site-packages/rpy2-2.8.0.dev0-py2.7-macosx-10.10-x86_64.egg/rpy2/robjects/functions.py:106: UserWarning: Read 152 items\n",
      "\n",
      "  res = super(Function, self).__call__(*new_args, **new_kwargs)\n",
      "/usr/local/lib/python2.7/site-packages/rpy2-2.8.0.dev0-py2.7-macosx-10.10-x86_64.egg/rpy2/robjects/functions.py:106: UserWarning: Read 163 items\n",
      "\n",
      "  res = super(Function, self).__call__(*new_args, **new_kwargs)\n",
      "/usr/local/lib/python2.7/site-packages/rpy2-2.8.0.dev0-py2.7-macosx-10.10-x86_64.egg/rpy2/robjects/functions.py:106: UserWarning: Read 34 items\n",
      "\n",
      "  res = super(Function, self).__call__(*new_args, **new_kwargs)\n",
      "/usr/local/lib/python2.7/site-packages/rpy2-2.8.0.dev0-py2.7-macosx-10.10-x86_64.egg/rpy2/robjects/functions.py:106: UserWarning: Read 103 items\n",
      "\n",
      "  res = super(Function, self).__call__(*new_args, **new_kwargs)\n",
      "/usr/local/lib/python2.7/site-packages/rpy2-2.8.0.dev0-py2.7-macosx-10.10-x86_64.egg/rpy2/robjects/functions.py:106: UserWarning: Read 98 items\n",
      "\n",
      "  res = super(Function, self).__call__(*new_args, **new_kwargs)\n",
      "/usr/local/lib/python2.7/site-packages/rpy2-2.8.0.dev0-py2.7-macosx-10.10-x86_64.egg/rpy2/robjects/functions.py:106: UserWarning: Read 99 items\n",
      "\n",
      "  res = super(Function, self).__call__(*new_args, **new_kwargs)\n",
      "/usr/local/lib/python2.7/site-packages/rpy2-2.8.0.dev0-py2.7-macosx-10.10-x86_64.egg/rpy2/robjects/functions.py:106: UserWarning: Read 46 items\n",
      "\n",
      "  res = super(Function, self).__call__(*new_args, **new_kwargs)\n",
      "/usr/local/lib/python2.7/site-packages/rpy2-2.8.0.dev0-py2.7-macosx-10.10-x86_64.egg/rpy2/robjects/functions.py:106: UserWarning: Read 38 items\n",
      "\n",
      "  res = super(Function, self).__call__(*new_args, **new_kwargs)\n",
      "/usr/local/lib/python2.7/site-packages/rpy2-2.8.0.dev0-py2.7-macosx-10.10-x86_64.egg/rpy2/robjects/functions.py:106: UserWarning: Read 115 items\n",
      "\n",
      "  res = super(Function, self).__call__(*new_args, **new_kwargs)\n",
      "/usr/local/lib/python2.7/site-packages/rpy2-2.8.0.dev0-py2.7-macosx-10.10-x86_64.egg/rpy2/robjects/functions.py:106: UserWarning: Read 107 items\n",
      "\n",
      "  res = super(Function, self).__call__(*new_args, **new_kwargs)\n",
      "/usr/local/lib/python2.7/site-packages/rpy2-2.8.0.dev0-py2.7-macosx-10.10-x86_64.egg/rpy2/robjects/functions.py:106: UserWarning: Read 60 items\n",
      "\n",
      "  res = super(Function, self).__call__(*new_args, **new_kwargs)\n",
      "/usr/local/lib/python2.7/site-packages/rpy2-2.8.0.dev0-py2.7-macosx-10.10-x86_64.egg/rpy2/robjects/functions.py:106: UserWarning: Read 160 items\n",
      "\n",
      "  res = super(Function, self).__call__(*new_args, **new_kwargs)\n",
      "/usr/local/lib/python2.7/site-packages/rpy2-2.8.0.dev0-py2.7-macosx-10.10-x86_64.egg/rpy2/robjects/functions.py:106: UserWarning: Read 51 items\n",
      "\n",
      "  res = super(Function, self).__call__(*new_args, **new_kwargs)\n",
      "/usr/local/lib/python2.7/site-packages/rpy2-2.8.0.dev0-py2.7-macosx-10.10-x86_64.egg/rpy2/robjects/functions.py:106: UserWarning: Read 146 items\n",
      "\n",
      "  res = super(Function, self).__call__(*new_args, **new_kwargs)\n",
      "/usr/local/lib/python2.7/site-packages/rpy2-2.8.0.dev0-py2.7-macosx-10.10-x86_64.egg/rpy2/robjects/functions.py:106: UserWarning: Read 140 items\n",
      "\n",
      "  res = super(Function, self).__call__(*new_args, **new_kwargs)\n",
      "/usr/local/lib/python2.7/site-packages/rpy2-2.8.0.dev0-py2.7-macosx-10.10-x86_64.egg/rpy2/robjects/functions.py:106: UserWarning: Read 114 items\n",
      "\n",
      "  res = super(Function, self).__call__(*new_args, **new_kwargs)\n",
      "/usr/local/lib/python2.7/site-packages/rpy2-2.8.0.dev0-py2.7-macosx-10.10-x86_64.egg/rpy2/robjects/functions.py:106: UserWarning: Read 106 items\n",
      "\n",
      "  res = super(Function, self).__call__(*new_args, **new_kwargs)\n",
      "/usr/local/lib/python2.7/site-packages/rpy2-2.8.0.dev0-py2.7-macosx-10.10-x86_64.egg/rpy2/robjects/functions.py:106: UserWarning: Read 137 items\n",
      "\n",
      "  res = super(Function, self).__call__(*new_args, **new_kwargs)\n",
      "/usr/local/lib/python2.7/site-packages/rpy2-2.8.0.dev0-py2.7-macosx-10.10-x86_64.egg/rpy2/robjects/functions.py:106: UserWarning: Read 42 items\n",
      "\n",
      "  res = super(Function, self).__call__(*new_args, **new_kwargs)\n"
     ]
    },
    {
     "data": {
      "text/plain": [
       "[1] 38293   182\n"
      ]
     },
     "metadata": {},
     "output_type": "display_data"
    }
   ],
   "source": [
    "%%R -i data_dir\n",
    "#This illustrates the generation of input files using R; alternatatively a hdf5 fie containing the necessary daat is provided. \n",
    "\n",
    "library(rhdf5)\n",
    "library(gplots)\n",
    "require(GSEABase)\n",
    "require(limma)\n",
    "source('../../../R/Rutils.R')\n",
    "#contains normalised read counts with gene IDs, variable genes and cell cycle stage as in Buettner et al\n",
    "dataCounts = h5dump(paste0(data_dir,'normCountsBuettnerEtAl.h5f'))\n",
    "geneIds\n",
    "#log transformed and normalized expression matirx\n",
    "Y = dataCounts$LogNcounts\n",
    "print(dim(Y))\n",
    "#variable genes\n",
    "idx_het = which(dataCounts$genes_heterogen==1)\n",
    "#cell cycle stage\n",
    "labels = dataCounts$labels\n",
    "\n",
    "#we consider variable genes only\n",
    "countsMmusFilter= Y[idx_het,]\n",
    "rownames(countsMmusFilter) = dataCounts$sym_names_het\n",
    "\n",
    "#we also write out the cell cycle phase information that can be used either as covariate in the model or for plottting\n",
    "modelMat = model.matrix(~as.factor(labels))[,2:3]\n",
    "Known = cbind(modelMat)\n",
    "colnames(Known) = paste(\"ccPhase\",c(\"S\", \"G2M\"),sep=\"\")\n",
    "\n",
    "\n",
    "#if you have custom gene sets add them here\n",
    "#setsAdd = list()\n",
    "#setsAdd[[1]]=custom_genes\n",
    "#setsAdd_names = 'XXX'\n",
    "\n",
    "write_scLVM2(countsMmusFilter, '_Buettneretal.hdf5', Known=Known, data_dir=data_dir)"
   ]
  },
  {
   "cell_type": "markdown",
   "metadata": {},
   "source": [
    "# Loading data"
   ]
  },
  {
   "cell_type": "markdown",
   "metadata": {},
   "source": [
    "Arguments specify some options, incuding number of hidden factors (`nHidden`), minimum number of genes in a pathway (`minGenes`), whether to use the fast option (`doFast`), noise model (`noise`) and the data directory (`data_dir`). @Oli: could also omit the options here and use the defaults (not explicitly)"
   ]
  },
  {
   "cell_type": "code",
   "execution_count": 10,
   "metadata": {
    "collapsed": false
   },
   "outputs": [
    {
     "name": "stdout",
     "output_type": "stream",
     "text": [
      "iteration 0\n",
      "iteration 100\n",
      "iteration 200\n",
      "iteration 300\n",
      "iteration 400\n",
      "iteration 500\n",
      "iteration 600\n",
      "iteration 700\n",
      "Converged after 701 iterations\n"
     ]
    }
   ],
   "source": [
    "reload(fscLVM)\n",
    "dFile = '_Buettneretal.hdf5'\n",
    "\n",
    "data = load_hdf5(dFile, data_dir=data_dir)\n",
    "\n",
    "FA = initFA(data['Y'], data['terms'],data['IMSigDB'],noise='gauss', nHidden=3, \n",
    "                   doFast=True, minGenes=15)\n",
    "#iterate\n",
    "FA.iterate(nIterations=2000)\n"
   ]
  },
  {
   "cell_type": "markdown",
   "metadata": {},
   "source": [
    "Next, we initialise the model and iterate.\n"
   ]
  },
  {
   "cell_type": "markdown",
   "metadata": {},
   "source": [
    "\n",
    "We then plot results. First, we show the relevance of the terms; then we plot the 2 most important factors, in this case G2M Checkpoint and P53 Pathway. "
   ]
  },
  {
   "cell_type": "code",
   "execution_count": 16,
   "metadata": {
    "collapsed": false
   },
   "outputs": [
    {
     "data": {
      "image/png": "[encoded data removed]",
      "text/plain": [
       "<matplotlib.figure.Figure at 0x110185e10>"
      ]
     },
     "metadata": {},
     "output_type": "display_data"
    },
    {
     "name": "stdout",
     "output_type": "stream",
     "text": [
      "<fscLVMl.core.CSparseFA object at 0x110185ad0>\n"
     ]
    },
    {
     "data": {
      "image/png": "[encoded data removed]",
      "text/plain": [
       "<matplotlib.figure.Figure at 0x10e0b4350>"
      ]
     },
     "metadata": {},
     "output_type": "display_data"
    }
   ],
   "source": [
    "#scatter plot of two most important factors\n",
    "#TODO integrate ploy's plot script.\n",
    "plotTerms(FA, terms=FA.terms, madFilter=0.4)\n",
    "\n",
    "dataFile = h5py.File(os.path.join(data_dir, dFile), 'r')\n",
    "plotFactors(0,1,FA,lab = data['Known'][0,:]+2*data['Known'][1,:], \n",
    "                  terms=FA.terms, isCont=False, madFilter=0.4)\n",
    "\n"
   ]
  },
  {
   "cell_type": "code",
   "execution_count": 100,
   "metadata": {
    "collapsed": true
   },
   "outputs": [],
   "source": [
    "#specify out_file\n",
    "FA.out_name = 'FA_Buettner_MSigDB'\n",
    "saveFA(FA)"
   ]
  },
  {
   "cell_type": "code",
   "execution_count": 32,
   "metadata": {
    "collapsed": false
   },
   "outputs": [],
   "source": []
  },
  {
   "cell_type": "code",
   "execution_count": 22,
   "metadata": {
    "collapsed": false
   },
   "outputs": [
    {
     "name": "stderr",
     "output_type": "stream",
     "text": [
      "./../../core/utils.py:46: FutureWarning: comparison to `None` will result in an elementwise object comparison in the future.\n",
      "  if Ycorr != None:\n",
      "./../../core/utils.py:48: FutureWarning: comparison to `None` will result in an elementwise object comparison in the future.\n",
      "  if Ycorr_lat != None:\n"
     ]
    }
   ],
   "source": [
    "utils.saveFA(FA, Ycorr=Ycorr, Ycorr_lat=Ycorr3)"
   ]
  },
  {
   "cell_type": "code",
   "execution_count": 74,
   "metadata": {
    "collapsed": false
   },
   "outputs": [
    {
     "data": {
      "text/plain": [
       "u'/Users/flo/projects/Auto_Bionf/scLVM2/py/demo/ipynb'"
      ]
     },
     "execution_count": 74,
     "metadata": {},
     "output_type": "execute_result"
    }
   ],
   "source": []
  },
  {
   "cell_type": "code",
   "execution_count": null,
   "metadata": {
    "collapsed": true
   },
   "outputs": [],
   "source": []
  }
 ],
 "metadata": {
  "kernelspec": {
   "display_name": "Python 2",
   "language": "python",
   "name": "python2"
  },
  "language_info": {
   "codemirror_mode": {
    "name": "ipython",
    "version": 2
   },
   "file_extension": ".py",
   "mimetype": "text/x-python",
   "name": "python",
   "nbconvert_exporter": "python",
   "pygments_lexer": "ipython2",
   "version": "2.7.9"
  }
 },
 "nbformat": 4,
 "nbformat_minor": 0
}
